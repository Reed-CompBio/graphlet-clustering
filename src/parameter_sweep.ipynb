{
 "cells": [
  {
   "cell_type": "code",
   "execution_count": 1,
   "metadata": {},
   "outputs": [],
   "source": [
    "import numpy as np\n",
    "import networkx as nx\n",
    "import pandas as pd\n",
    "import os\n",
    "import os.path\n",
    "from csv import reader\n",
    "from networkx.algorithms import approximation\n",
    "import matplotlib\n",
    "from matplotlib import pyplot as plt\n",
    "from sklearn.metrics.cluster import adjusted_rand_score\n",
    "from sklearn.metrics.cluster import rand_score\n",
    "from sklearn.preprocessing import MultiLabelBinarizer"
   ]
  },
  {
   "cell_type": "markdown",
   "metadata": {},
   "source": [
    "# Parameters"
   ]
  },
  {
   "cell_type": "markdown",
   "metadata": {},
   "source": [
    "### Functions"
   ]
  },
  {
   "cell_type": "code",
   "execution_count": 2,
   "metadata": {},
   "outputs": [],
   "source": [
    "# Makes a table\n",
    "def make_df(data,str_inflations,str_graphlets,title):\n",
    "    d = data\n",
    "    print(title)\n",
    "    return pd.DataFrame(np.array(d),columns=str_inflations,index = str_graphlets)\n",
    "\n",
    "# turns a list of numbers into a list of strings, can add a prefix or suffix to them\n",
    "def list_of_strings(list,prefix='',suffix=''):\n",
    "    return_list = []\n",
    "    for item in list:\n",
    "        return_list.append(prefix+str(item)+suffix)\n",
    "    return return_list"
   ]
  },
  {
   "cell_type": "markdown",
   "metadata": {},
   "source": [
    "### PPI"
   ]
  },
  {
   "cell_type": "code",
   "execution_count": 4,
   "metadata": {},
   "outputs": [
    {
     "name": "stdout",
     "output_type": "stream",
     "text": [
      "Running mcl for G0\n"
     ]
    },
    {
     "name": "stderr",
     "output_type": "stream",
     "text": [
      "................[mcl] new tab created\n",
      "[mcl] pid 2283\n",
      " ite -------------------  chaos  time hom(avg,lo,hi) m-ie m-ex i-ex fmv\n",
      "  1  ................... 383.04  4.22 0.98/0.00/7.57 72.76 30.55 30.55  46\n",
      "  2  ................... 168.01 56.10 0.69/0.14/2.01 18.75 0.15 4.58  99\n",
      "  3  ...................  39.04  3.54 0.84/0.07/1.72 24.15 0.07 0.32  81\n",
      "  4  ...................  11.79  0.08 0.92/0.22/4.29 2.33 0.28 0.09   2\n",
      "  5  ...................   3.60  0.02 0.97/0.45/1.63 1.12 0.56 0.05   0\n",
      "  6  ...................   0.87  0.01 0.99/0.49/1.59 1.00 0.76 0.04   0\n",
      "  7  ...................   0.70  0.01 1.00/0.56/1.14 1.00 0.89 0.03   0\n",
      "  8  ...................   1.29  0.01 1.00/0.57/1.00 1.00 0.95 0.03   0\n",
      "  9  ...................   1.16  0.01 1.00/0.75/1.00 1.00 0.98 0.03   0\n",
      " 10  ...................   0.25  0.01 1.00/0.76/1.00 1.00 0.99 0.03   0\n",
      " 11  ...................   0.25  0.01 1.00/0.76/1.00 1.00 1.00 0.03   0\n",
      " 12  ...................   0.22  0.01 1.00/0.82/1.00 1.00 1.00 0.03   0\n",
      " 13  ...................   0.17  0.01 1.00/0.83/1.00 1.00 1.00 0.03   0\n",
      " 14  ...................   0.00  0.01 1.00/1.00/1.00 1.00 1.00 0.03   0\n",
      " 15  ...................   0.00  0.01 1.00/1.00/1.00 1.00 1.00 0.03   0\n",
      "[mcl] jury pruning marks: <66,95,99>, out of 100\n",
      "[mcl] jury pruning synopsis: <77.4 or good> (cf -scheme, -do log)\n",
      "[mcl] output is in ../summer-2022/ppi_out/inflation_tests/G0_I3.0_2\n",
      "[mcl] 9323 clusters found\n",
      "[mcl] output is in ../summer-2022/ppi_out/inflation_tests/G0_I3.0_2\n",
      "\n",
      "Please cite:\n",
      "    Stijn van Dongen, Graph Clustering by Flow Simulation.  PhD thesis,\n",
      "    University of Utrecht, May 2000.\n",
      "       (  http://www.library.uu.nl/digiarchief/dip/diss/1895620/full.pdf\n",
      "       or  http://micans.org/mcl/lit/svdthesis.pdf.gz)\n",
      "OR\n",
      "    Stijn van Dongen, A cluster algorithm for graphs. Technical\n",
      "    Report INS-R0010, National Research Institute for Mathematics\n",
      "    and Computer Science in the Netherlands, Amsterdam, May 2000.\n",
      "       (  http://www.cwi.nl/ftp/CWIreports/INS/INS-R0010.ps.Z\n",
      "       or  http://micans.org/mcl/lit/INS-R0010.ps.Z)\n",
      "\n",
      ".."
     ]
    },
    {
     "name": "stdout",
     "output_type": "stream",
     "text": [
      "Running mcl for G1\n"
     ]
    },
    {
     "name": "stderr",
     "output_type": "stream",
     "text": [
      "..............[mcl] new tab created\n",
      "[mcl] pid 2286\n",
      " ite -------------------  chaos  time hom(avg,lo,hi) m-ie m-ex i-ex fmv\n",
      "  1  ................... 383.04  4.37 0.98/0.00/7.57 72.76 30.55 30.55  46\n",
      "  2  ................... 168.01 54.66 0.69/0.14/2.01 18.75 0.15 4.58  99\n",
      "  3  ...................  39.04  3.24 0.84/0.07/1.72 24.15 0.07 0.32  81\n",
      "  4  ...................  11.79  0.07 0.92/0.22/4.29 2.33 0.28 0.09   2\n",
      "  5  ...................   3.60  0.01 0.97/0.45/1.63 1.12 0.56 0.05   0\n",
      "  6  ...................   0.87  0.01 0.99/0.49/1.59 1.00 0.76 0.04   0\n",
      "  7  ...................   0.63  0.01 1.00/0.56/1.14 1.00 0.89 0.03   0\n",
      "  8  ...................   0.41  0.01 1.00/0.57/1.00 1.00 0.95 0.03   0\n",
      "  9  ...................   0.37  0.01 1.00/0.76/1.00 1.00 0.98 0.03   0\n",
      " 10  ...................   0.25  0.01 1.00/0.76/1.00 1.00 0.99 0.03   0\n",
      " 11  ...................   0.25  0.01 1.00/0.76/1.00 1.00 1.00 0.03   0\n",
      " 12  ...................   0.22  0.01 1.00/0.82/1.00 1.00 1.00 0.03   0\n",
      " 13  ...................   0.17  0.01 1.00/0.83/1.00 1.00 1.00 0.03   0\n",
      " 14  ...................   0.00  0.01 1.00/1.00/1.00 1.00 1.00 0.03   0\n",
      " 15  ...................   0.00  0.01 1.00/1.00/1.00 1.00 1.00 0.03   0\n",
      "[mcl] jury pruning marks: <66,95,99>, out of 100\n",
      "[mcl] jury pruning synopsis: <77.4 or good> (cf -scheme, -do log)\n",
      "[mcl] output is in ../summer-2022/ppi_out/inflation_tests/G1_I3.0_2\n",
      "[mcl] 9321 clusters found\n",
      "[mcl] output is in ../summer-2022/ppi_out/inflation_tests/G1_I3.0_2\n",
      "\n",
      "Please cite:\n",
      "    Stijn van Dongen, Graph Clustering by Flow Simulation.  PhD thesis,\n",
      "    University of Utrecht, May 2000.\n",
      "       (  http://www.library.uu.nl/digiarchief/dip/diss/1895620/full.pdf\n",
      "       or  http://micans.org/mcl/lit/svdthesis.pdf.gz)\n",
      "OR\n",
      "    Stijn van Dongen, A cluster algorithm for graphs. Technical\n",
      "    Report INS-R0010, National Research Institute for Mathematics\n",
      "    and Computer Science in the Netherlands, Amsterdam, May 2000.\n",
      "       (  http://www.cwi.nl/ftp/CWIreports/INS/INS-R0010.ps.Z\n",
      "       or  http://micans.org/mcl/lit/INS-R0010.ps.Z)\n",
      "\n",
      "..."
     ]
    },
    {
     "name": "stdout",
     "output_type": "stream",
     "text": [
      "Running mcl for G2\n"
     ]
    },
    {
     "name": "stderr",
     "output_type": "stream",
     "text": [
      "..........[mcl] new tab created\n",
      "[mcl] pid 2301\n",
      " ite -------------------  chaos  time hom(avg,lo,hi) m-ie m-ex i-ex fmv\n",
      "  1  ................... 189.11  3.15 1.12/0.00/7.94 64.43 27.10 27.10  68\n",
      "  2  ................... 169.62 37.25 0.64/0.08/1.73 12.45 0.17 4.66  99\n",
      "  3  ...................  37.69  2.21 0.74/0.06/3.61 17.51 0.08 0.39  96\n",
      "  4  ...................  18.10  0.08 0.89/0.20/1.81 2.45 0.24 0.09   4\n",
      "  5  ...................   3.34  0.02 0.96/0.33/1.46 1.17 0.48 0.04   0\n",
      "  6  ...................   1.19  0.01 0.99/0.41/1.58 1.01 0.71 0.03   0\n",
      "  7  ...................   0.65  0.01 1.00/0.56/1.17 1.00 0.86 0.03   0\n",
      "  8  ...................   0.39  0.01 1.00/0.52/1.18 1.00 0.95 0.03   0\n",
      "  9  ...................   0.25  0.01 1.00/0.62/1.26 1.00 0.98 0.03   0\n",
      " 10  ...................   0.25  0.01 1.00/0.57/1.00 1.00 0.99 0.03   0\n",
      " 11  ...................   0.25  0.01 1.00/0.76/1.00 1.00 1.00 0.03   0\n",
      " 12  ...................   0.05  0.01 1.00/0.95/1.00 1.00 1.00 0.03   0\n",
      " 13  ...................   0.09  0.01 1.00/0.97/1.00 1.00 1.00 0.03   0\n",
      " 14  ...................   0.20  0.01 1.00/0.84/1.00 1.00 1.00 0.03   0\n",
      " 15  ...................   0.21  0.01 1.00/0.80/1.00 1.00 1.00 0.03   0\n",
      " 16  ...................   0.01  0.01 1.00/0.99/1.00 1.00 1.00 0.03   0\n",
      " 17  ...................   0.00  0.01 1.00/1.00/1.00 1.00 1.00 0.03   0\n",
      "[mcl] jury pruning marks: <71,95,99>, out of 100\n",
      "[mcl] jury pruning synopsis: <80.5 or favourable> (cf -scheme, -do log)\n",
      "[mcl] output is in ../summer-2022/ppi_out/inflation_tests/G2_I3.0_2\n",
      "[mcl] 4604 clusters found\n",
      "[mcl] output is in ../summer-2022/ppi_out/inflation_tests/G2_I3.0_2\n",
      "\n",
      "Please cite:\n",
      "    Stijn van Dongen, Graph Clustering by Flow Simulation.  PhD thesis,\n",
      "    University of Utrecht, May 2000.\n",
      "       (  http://www.library.uu.nl/digiarchief/dip/diss/1895620/full.pdf\n",
      "       or  http://micans.org/mcl/lit/svdthesis.pdf.gz)\n",
      "OR\n",
      "    Stijn van Dongen, A cluster algorithm for graphs. Technical\n",
      "    Report INS-R0010, National Research Institute for Mathematics\n",
      "    and Computer Science in the Netherlands, Amsterdam, May 2000.\n",
      "       (  http://www.cwi.nl/ftp/CWIreports/INS/INS-R0010.ps.Z\n",
      "       or  http://micans.org/mcl/lit/INS-R0010.ps.Z)\n",
      "\n"
     ]
    },
    {
     "name": "stdout",
     "output_type": "stream",
     "text": [
      "Running mcl for G3\n"
     ]
    },
    {
     "name": "stderr",
     "output_type": "stream",
     "text": [
      "................[mcl] new tab created\n",
      "[mcl] pid 2318\n",
      " ite -------------------  chaos  time hom(avg,lo,hi) m-ie m-ex i-ex fmv\n",
      "  1  ................... 383.04  4.26 0.98/0.00/7.57 72.77 30.55 30.55  47\n",
      "  2  ................... 168.01 56.15 0.69/0.14/2.01 18.75 0.15 4.58  99\n",
      "  3  ...................  39.04  3.27 0.84/0.07/1.72 24.15 0.07 0.32  81\n",
      "  4  ...................  11.79  0.07 0.92/0.22/4.29 2.33 0.28 0.09   2\n",
      "  5  ...................   3.60  0.01 0.97/0.45/1.65 1.12 0.56 0.05   0\n",
      "  6  ...................   0.87  0.01 0.99/0.49/1.59 1.00 0.76 0.04   0\n",
      "  7  ...................   0.63  0.01 1.00/0.56/1.14 1.00 0.89 0.03   0\n",
      "  8  ...................   0.41  0.01 1.00/0.57/1.00 1.00 0.95 0.03   0\n",
      "  9  ...................   0.37  0.01 1.00/0.76/1.00 1.00 0.98 0.03   0\n",
      " 10  ...................   0.25  0.01 1.00/0.76/1.00 1.00 0.99 0.03   0\n",
      " 11  ...................   0.25  0.01 1.00/0.76/1.00 1.00 1.00 0.03   0\n",
      " 12  ...................   0.22  0.01 1.00/0.82/1.00 1.00 1.00 0.03   0\n",
      " 13  ...................   0.17  0.01 1.00/0.83/1.00 1.00 1.00 0.03   0\n",
      " 14  ...................   0.00  0.01 1.00/1.00/1.00 1.00 1.00 0.03   0\n",
      " 15  ...................   0.00  0.01 1.00/1.00/1.00 1.00 1.00 0.03   0\n",
      "[mcl] jury pruning marks: <66,95,99>, out of 100\n",
      "[mcl] jury pruning synopsis: <77.4 or good> (cf -scheme, -do log)\n",
      "[mcl] output is in ../summer-2022/ppi_out/inflation_tests/G3_I3.0_2\n",
      "[mcl] 9317 clusters found\n",
      "[mcl] output is in ../summer-2022/ppi_out/inflation_tests/G3_I3.0_2\n",
      "\n",
      "Please cite:\n",
      "    Stijn van Dongen, Graph Clustering by Flow Simulation.  PhD thesis,\n",
      "    University of Utrecht, May 2000.\n",
      "       (  http://www.library.uu.nl/digiarchief/dip/diss/1895620/full.pdf\n",
      "       or  http://micans.org/mcl/lit/svdthesis.pdf.gz)\n",
      "OR\n",
      "    Stijn van Dongen, A cluster algorithm for graphs. Technical\n",
      "    Report INS-R0010, National Research Institute for Mathematics\n",
      "    and Computer Science in the Netherlands, Amsterdam, May 2000.\n",
      "       (  http://www.cwi.nl/ftp/CWIreports/INS/INS-R0010.ps.Z\n",
      "       or  http://micans.org/mcl/lit/INS-R0010.ps.Z)\n",
      "\n",
      "..."
     ]
    },
    {
     "name": "stdout",
     "output_type": "stream",
     "text": [
      "Running mcl for G4\n"
     ]
    },
    {
     "name": "stderr",
     "output_type": "stream",
     "text": [
      ".............[mcl] new tab created\n",
      "[mcl] pid 2333\n",
      " ite -------------------  chaos  time hom(avg,lo,hi) m-ie m-ex i-ex fmv\n",
      "  1  ................... 383.04  4.23 0.98/0.00/7.57 72.78 30.56 30.56  47\n",
      "  2  ................... 168.01 56.62 0.69/0.14/2.01 18.75 0.15 4.58  99\n",
      "  3  ...................  39.04  3.33 0.84/0.07/1.72 24.15 0.07 0.32  81\n",
      "  4  ...................  11.79  0.08 0.92/0.22/4.29 2.33 0.28 0.09   2\n",
      "  5  ...................   3.60  0.02 0.97/0.45/1.63 1.12 0.56 0.05   0\n",
      "  6  ...................   0.87  0.01 0.99/0.49/1.59 1.00 0.76 0.04   0\n",
      "  7  ...................   0.63  0.01 1.00/0.56/1.14 1.00 0.89 0.03   0\n",
      "  8  ...................   0.41  0.01 1.00/0.57/1.00 1.00 0.95 0.03   0\n",
      "  9  ...................   0.37  0.01 1.00/0.76/1.00 1.00 0.98 0.03   0\n",
      " 10  ...................   0.25  0.01 1.00/0.76/1.00 1.00 0.99 0.03   0\n",
      " 11  ...................   0.25  0.01 1.00/0.76/1.00 1.00 1.00 0.03   0\n",
      " 12  ...................   0.24  0.01 1.00/0.79/1.00 1.00 1.00 0.03   0\n",
      " 13  ...................   0.17  0.01 1.00/0.83/1.00 1.00 1.00 0.03   0\n",
      " 14  ...................   0.00  0.01 1.00/1.00/1.00 1.00 1.00 0.03   0\n",
      " 15  ...................   0.00  0.01 1.00/1.00/1.00 1.00 1.00 0.03   0\n",
      "[mcl] jury pruning marks: <66,95,99>, out of 100\n",
      "[mcl] jury pruning synopsis: <77.4 or good> (cf -scheme, -do log)\n",
      "[mcl] output is in ../summer-2022/ppi_out/inflation_tests/G4_I3.0_2\n",
      "[mcl] 9295 clusters found\n",
      "[mcl] output is in ../summer-2022/ppi_out/inflation_tests/G4_I3.0_2\n",
      "\n",
      "Please cite:\n",
      "    Stijn van Dongen, Graph Clustering by Flow Simulation.  PhD thesis,\n",
      "    University of Utrecht, May 2000.\n",
      "       (  http://www.library.uu.nl/digiarchief/dip/diss/1895620/full.pdf\n",
      "       or  http://micans.org/mcl/lit/svdthesis.pdf.gz)\n",
      "OR\n",
      "    Stijn van Dongen, A cluster algorithm for graphs. Technical\n",
      "    Report INS-R0010, National Research Institute for Mathematics\n",
      "    and Computer Science in the Netherlands, Amsterdam, May 2000.\n",
      "       (  http://www.cwi.nl/ftp/CWIreports/INS/INS-R0010.ps.Z\n",
      "       or  http://micans.org/mcl/lit/INS-R0010.ps.Z)\n",
      "\n",
      "..."
     ]
    },
    {
     "name": "stdout",
     "output_type": "stream",
     "text": [
      "Running mcl for G5\n"
     ]
    },
    {
     "name": "stderr",
     "output_type": "stream",
     "text": [
      ".............[mcl] new tab created\n",
      "[mcl] pid 2350\n",
      " ite -------------------  chaos  time hom(avg,lo,hi) m-ie m-ex i-ex fmv\n",
      "  1  ................... 201.38  3.91 1.00/0.00/7.55 68.38 27.57 27.57  66\n",
      "  2  ................... 165.16 49.55 0.70/0.14/1.98 13.92 0.18 4.88  99\n",
      "  3  ...................  39.72  3.26 0.83/0.07/1.53 23.44 0.06 0.32  97\n",
      "  4  ...................  12.62  0.07 0.90/0.17/2.38 2.48 0.26 0.08   3\n",
      "  5  ...................   2.88  0.01 0.96/0.37/1.89 1.14 0.52 0.04   0\n",
      "  6  ...................   1.02  0.01 0.98/0.46/1.43 1.01 0.72 0.03   0\n",
      "  7  ...................   0.53  0.01 0.99/0.56/1.61 1.00 0.86 0.03   0\n",
      "  8  ...................   0.38  0.01 1.00/0.56/1.13 1.00 0.95 0.02   0\n",
      "  9  ...................   0.25  0.01 1.00/0.56/1.13 1.00 0.98 0.02   0\n",
      " 10  ...................   0.25  0.01 1.00/0.76/1.13 1.00 0.99 0.02   0\n",
      " 11  ...................   0.25  0.01 1.00/0.76/1.12 1.00 1.00 0.02   0\n",
      " 12  ...................   0.23  0.01 1.00/0.80/1.10 1.00 1.00 0.02   0\n",
      " 13  ...................   0.25  0.01 1.00/0.77/1.04 1.00 1.00 0.02   0\n",
      " 14  ...................   0.25  0.01 1.00/0.92/1.00 1.00 1.00 0.02   0\n",
      " 15  ...................   0.09  0.01 1.00/0.95/1.00 1.00 1.00 0.02   0\n",
      " 16  ...................   0.00  0.01 1.00/1.00/1.00 1.00 1.00 0.02   0\n",
      " 17  ...................   0.00  0.01 1.00/1.00/1.00 1.00 1.00 0.02   0\n",
      "[mcl] cut <1> instances of overlap\n",
      "[mcl] jury pruning marks: <66,95,99>, out of 100\n",
      "[mcl] jury pruning synopsis: <77.4 or good> (cf -scheme, -do log)\n",
      "[mcl] output is in ../summer-2022/ppi_out/inflation_tests/G5_I3.0_2\n",
      "[mcl] 8923 clusters found\n",
      "[mcl] output is in ../summer-2022/ppi_out/inflation_tests/G5_I3.0_2\n",
      "\n",
      "Please cite:\n",
      "    Stijn van Dongen, Graph Clustering by Flow Simulation.  PhD thesis,\n",
      "    University of Utrecht, May 2000.\n",
      "       (  http://www.library.uu.nl/digiarchief/dip/diss/1895620/full.pdf\n",
      "       or  http://micans.org/mcl/lit/svdthesis.pdf.gz)\n",
      "OR\n",
      "    Stijn van Dongen, A cluster algorithm for graphs. Technical\n",
      "    Report INS-R0010, National Research Institute for Mathematics\n",
      "    and Computer Science in the Netherlands, Amsterdam, May 2000.\n",
      "       (  http://www.cwi.nl/ftp/CWIreports/INS/INS-R0010.ps.Z\n",
      "       or  http://micans.org/mcl/lit/INS-R0010.ps.Z)\n",
      "\n",
      "..."
     ]
    },
    {
     "name": "stdout",
     "output_type": "stream",
     "text": [
      "Running mcl for G6\n"
     ]
    },
    {
     "name": "stderr",
     "output_type": "stream",
     "text": [
      ".............[mcl] new tab created\n",
      "[mcl] pid 2365\n",
      " ite -------------------  chaos  time hom(avg,lo,hi) m-ie m-ex i-ex fmv\n",
      "  1  ................... 384.33  4.53 0.98/0.00/7.57 72.85 30.55 30.55  48\n",
      "  2  ................... 168.01 58.68 0.69/0.14/2.01 18.68 0.15 4.59  99\n",
      "  3  ...................  39.02  3.53 0.84/0.07/1.72 23.99 0.07 0.32  82\n",
      "  4  ...................  13.15  0.07 0.92/0.22/4.27 2.33 0.28 0.09   2\n",
      "  5  ...................   3.61  0.02 0.97/0.40/1.74 1.13 0.56 0.05   0\n",
      "  6  ...................   0.86  0.01 0.99/0.50/1.56 1.00 0.75 0.04   0\n",
      "  7  ...................   0.70  0.01 1.00/0.56/1.14 1.00 0.89 0.03   0\n",
      "  8  ...................   1.29  0.01 1.00/0.56/1.00 1.00 0.95 0.03   0\n",
      "  9  ...................   1.16  0.01 1.00/0.75/1.00 1.00 0.98 0.03   0\n",
      " 10  ...................   0.25  0.01 1.00/0.76/1.00 1.00 0.99 0.03   0\n",
      " 11  ...................   0.25  0.01 1.00/0.76/1.00 1.00 1.00 0.03   0\n",
      " 12  ...................   0.24  0.01 1.00/0.76/1.00 1.00 1.00 0.03   0\n",
      " 13  ...................   0.03  0.01 1.00/0.97/1.00 1.00 1.00 0.03   0\n",
      " 14  ...................   0.00  0.01 1.00/1.00/1.00 1.00 1.00 0.03   0\n",
      "[mcl] jury pruning marks: <66,95,99>, out of 100\n",
      "[mcl] jury pruning synopsis: <77.4 or good> (cf -scheme, -do log)\n",
      "[mcl] output is in ../summer-2022/ppi_out/inflation_tests/G6_I3.0_2\n",
      "[mcl] 9126 clusters found\n",
      "[mcl] output is in ../summer-2022/ppi_out/inflation_tests/G6_I3.0_2\n",
      "\n",
      "Please cite:\n",
      "    Stijn van Dongen, Graph Clustering by Flow Simulation.  PhD thesis,\n",
      "    University of Utrecht, May 2000.\n",
      "       (  http://www.library.uu.nl/digiarchief/dip/diss/1895620/full.pdf\n",
      "       or  http://micans.org/mcl/lit/svdthesis.pdf.gz)\n",
      "OR\n",
      "    Stijn van Dongen, A cluster algorithm for graphs. Technical\n",
      "    Report INS-R0010, National Research Institute for Mathematics\n",
      "    and Computer Science in the Netherlands, Amsterdam, May 2000.\n",
      "       (  http://www.cwi.nl/ftp/CWIreports/INS/INS-R0010.ps.Z\n",
      "       or  http://micans.org/mcl/lit/INS-R0010.ps.Z)\n",
      "\n",
      "..."
     ]
    },
    {
     "name": "stdout",
     "output_type": "stream",
     "text": [
      "Running mcl for G7\n"
     ]
    },
    {
     "name": "stderr",
     "output_type": "stream",
     "text": [
      "..........[mcl] new tab created\n",
      "[mcl] pid 2381\n",
      " ite -------------------  chaos  time hom(avg,lo,hi) m-ie m-ex i-ex fmv\n",
      "  1  ................... 188.96  3.12 1.13/0.00/7.94 64.48 27.13 27.13  69\n",
      "  2  ................... 169.74 39.17 0.64/0.08/1.73 12.31 0.17 4.67  99\n",
      "  3  ...................  37.75  2.31 0.74/0.06/3.61 17.36 0.08 0.39  97\n",
      "  4  ...................  18.06  0.07 0.89/0.20/1.90 2.44 0.24 0.09   4\n",
      "  5  ...................   3.07  0.02 0.95/0.33/1.60 1.17 0.48 0.04   0\n",
      "  6  ...................   1.50  0.01 0.98/0.41/1.30 1.01 0.71 0.03   0\n",
      "  7  ...................   0.65  0.01 1.00/0.56/1.56 1.00 0.85 0.03   0\n",
      "  8  ...................   0.35  0.01 1.00/0.53/1.14 1.00 0.94 0.03   0\n",
      "  9  ...................   0.25  0.01 1.00/0.56/1.00 1.00 0.98 0.03   0\n",
      " 10  ...................   0.23  0.01 1.00/0.77/1.00 1.00 0.99 0.02   0\n",
      " 11  ...................   0.25  0.01 1.00/0.78/1.00 1.00 1.00 0.02   0\n",
      " 12  ...................   0.25  0.01 1.00/0.76/1.00 1.00 1.00 0.02   0\n",
      " 13  ...................   0.21  0.01 1.00/0.79/1.00 1.00 1.00 0.02   0\n",
      " 14  ...................   0.01  0.01 1.00/0.99/1.00 1.00 1.00 0.02   0\n",
      " 15  ...................   0.00  0.01 1.00/1.00/1.00 1.00 1.00 0.02   0\n",
      "[mcl] jury pruning marks: <71,95,99>, out of 100\n",
      "[mcl] jury pruning synopsis: <80.5 or favourable> (cf -scheme, -do log)\n",
      "[mcl] output is in ../summer-2022/ppi_out/inflation_tests/G7_I3.0_2\n",
      "[mcl] 4524 clusters found\n",
      "[mcl] output is in ../summer-2022/ppi_out/inflation_tests/G7_I3.0_2\n",
      "\n",
      "Please cite:\n",
      "    Stijn van Dongen, Graph Clustering by Flow Simulation.  PhD thesis,\n",
      "    University of Utrecht, May 2000.\n",
      "       (  http://www.library.uu.nl/digiarchief/dip/diss/1895620/full.pdf\n",
      "       or  http://micans.org/mcl/lit/svdthesis.pdf.gz)\n",
      "OR\n",
      "    Stijn van Dongen, A cluster algorithm for graphs. Technical\n",
      "    Report INS-R0010, National Research Institute for Mathematics\n",
      "    and Computer Science in the Netherlands, Amsterdam, May 2000.\n",
      "       (  http://www.cwi.nl/ftp/CWIreports/INS/INS-R0010.ps.Z\n",
      "       or  http://micans.org/mcl/lit/INS-R0010.ps.Z)\n",
      "\n",
      "..."
     ]
    },
    {
     "name": "stdout",
     "output_type": "stream",
     "text": [
      "Running mcl for G8\n"
     ]
    },
    {
     "name": "stderr",
     "output_type": "stream",
     "text": [
      ".......[mcl] new tab created\n",
      "[mcl] pid 2396\n",
      " ite -------------------  chaos  time hom(avg,lo,hi) m-ie m-ex i-ex fmv\n",
      "  1  ................... 125.75  2.22 1.27/0.00/8.35 50.82 23.30 23.30  77\n",
      "  2  ................... 137.47 25.56 0.60/0.08/2.31 9.49 0.20 4.74  99\n",
      "  3  ...................  38.44  1.65 0.66/0.06/7.04 13.77 0.10 0.48  99\n",
      "  4  ...................  11.12  0.09 0.86/0.12/2.51 2.51 0.22 0.11   9\n",
      "  5  ...................   2.12  0.01 0.95/0.36/1.46 1.19 0.41 0.04   0\n",
      "  6  ...................   0.71  0.01 0.98/0.49/1.20 1.01 0.67 0.03   0\n",
      "  7  ...................   0.56  0.00 0.99/0.56/1.42 1.00 0.85 0.03   0\n",
      "  8  ...................   0.33  0.00 1.00/0.56/1.02 1.00 0.95 0.02   0\n",
      "  9  ...................   0.25  0.00 1.00/0.76/1.00 1.00 0.98 0.02   0\n",
      " 10  ...................   0.22  0.00 1.00/0.78/1.00 1.00 0.99 0.02   0\n",
      " 11  ...................   0.02  0.00 1.00/0.98/1.00 1.00 1.00 0.02   0\n",
      " 12  ...................   0.00  0.00 1.00/1.00/1.00 1.00 1.00 0.02   0\n",
      "[mcl] jury pruning marks: <78,96,99>, out of 100\n",
      "[mcl] jury pruning synopsis: <85.1 or cracking> (cf -scheme, -do log)\n",
      "[mcl] output is in ../summer-2022/ppi_out/inflation_tests/G8_I3.0_2\n",
      "[mcl] 2144 clusters found\n",
      "[mcl] output is in ../summer-2022/ppi_out/inflation_tests/G8_I3.0_2\n",
      "\n",
      "Please cite:\n",
      "    Stijn van Dongen, Graph Clustering by Flow Simulation.  PhD thesis,\n",
      "    University of Utrecht, May 2000.\n",
      "       (  http://www.library.uu.nl/digiarchief/dip/diss/1895620/full.pdf\n",
      "       or  http://micans.org/mcl/lit/svdthesis.pdf.gz)\n",
      "OR\n",
      "    Stijn van Dongen, A cluster algorithm for graphs. Technical\n",
      "    Report INS-R0010, National Research Institute for Mathematics\n",
      "    and Computer Science in the Netherlands, Amsterdam, May 2000.\n",
      "       (  http://www.cwi.nl/ftp/CWIreports/INS/INS-R0010.ps.Z\n",
      "       or  http://micans.org/mcl/lit/INS-R0010.ps.Z)\n",
      "\n",
      ".."
     ]
    },
    {
     "name": "stdout",
     "output_type": "stream",
     "text": [
      "Running mcl for G9\n"
     ]
    },
    {
     "name": "stderr",
     "output_type": "stream",
     "text": [
      "..............[mcl] new tab created\n",
      "[mcl] pid 2411\n",
      " ite -------------------  chaos  time hom(avg,lo,hi) m-ie m-ex i-ex fmv\n",
      "  1  ................... 383.04  4.47 0.98/0.00/7.57 72.77 30.55 30.55  47\n",
      "  2  ................... 168.01 57.92 0.69/0.14/2.01 18.75 0.15 4.58  99\n",
      "  3  ...................  39.04  3.54 0.84/0.07/1.72 24.15 0.07 0.32  81\n",
      "  4  ...................  11.79  0.08 0.92/0.22/4.29 2.33 0.28 0.09   2\n",
      "  5  ...................   3.60  0.02 0.97/0.45/1.65 1.12 0.56 0.05   0\n",
      "  6  ...................   0.87  0.01 0.99/0.49/1.59 1.00 0.76 0.04   0\n",
      "  7  ...................   0.63  0.01 1.00/0.56/1.14 1.00 0.89 0.03   0\n",
      "  8  ...................   0.41  0.01 1.00/0.57/1.00 1.00 0.95 0.03   0\n",
      "  9  ...................   0.37  0.01 1.00/0.76/1.00 1.00 0.98 0.03   0\n",
      " 10  ...................   0.25  0.01 1.00/0.76/1.00 1.00 0.99 0.03   0\n",
      " 11  ...................   0.25  0.01 1.00/0.76/1.00 1.00 1.00 0.03   0\n",
      " 12  ...................   0.22  0.01 1.00/0.82/1.00 1.00 1.00 0.03   0\n",
      " 13  ...................   0.17  0.01 1.00/0.83/1.00 1.00 1.00 0.03   0\n",
      " 14  ...................   0.00  0.01 1.00/1.00/1.00 1.00 1.00 0.03   0\n",
      " 15  ...................   0.00  0.01 1.00/1.00/1.00 1.00 1.00 0.03   0\n",
      "[mcl] jury pruning marks: <66,95,99>, out of 100\n",
      "[mcl] jury pruning synopsis: <77.4 or good> (cf -scheme, -do log)\n",
      "[mcl] output is in ../summer-2022/ppi_out/inflation_tests/G9_I3.0_2\n",
      "[mcl] 9315 clusters found\n",
      "[mcl] output is in ../summer-2022/ppi_out/inflation_tests/G9_I3.0_2\n",
      "\n",
      "Please cite:\n",
      "    Stijn van Dongen, Graph Clustering by Flow Simulation.  PhD thesis,\n",
      "    University of Utrecht, May 2000.\n",
      "       (  http://www.library.uu.nl/digiarchief/dip/diss/1895620/full.pdf\n",
      "       or  http://micans.org/mcl/lit/svdthesis.pdf.gz)\n",
      "OR\n",
      "    Stijn van Dongen, A cluster algorithm for graphs. Technical\n",
      "    Report INS-R0010, National Research Institute for Mathematics\n",
      "    and Computer Science in the Netherlands, Amsterdam, May 2000.\n",
      "       (  http://www.cwi.nl/ftp/CWIreports/INS/INS-R0010.ps.Z\n",
      "       or  http://micans.org/mcl/lit/INS-R0010.ps.Z)\n",
      "\n",
      "..."
     ]
    },
    {
     "name": "stdout",
     "output_type": "stream",
     "text": [
      "Running mcl for G10\n"
     ]
    },
    {
     "name": "stderr",
     "output_type": "stream",
     "text": [
      ".............[mcl] new tab created\n",
      "[mcl] pid 2435\n",
      " ite -------------------  chaos  time hom(avg,lo,hi) m-ie m-ex i-ex fmv\n",
      "  1  ................... 383.04  4.34 0.98/0.00/7.57 72.77 30.55 30.55  47\n",
      "  2  ................... 168.01 58.25 0.69/0.14/2.01 18.75 0.15 4.58  99\n",
      "  3  ...................  39.04  3.35 0.84/0.07/1.72 24.15 0.07 0.32  81\n",
      "  4  ...................  11.79  0.08 0.92/0.22/4.29 2.33 0.28 0.09   2\n",
      "  5  ...................   3.60  0.02 0.97/0.45/1.65 1.12 0.56 0.05   0\n",
      "  6  ...................   0.87  0.01 0.99/0.49/1.59 1.00 0.76 0.04   0\n",
      "  7  ...................   0.63  0.01 1.00/0.56/1.14 1.00 0.89 0.03   0\n",
      "  8  ...................   0.41  0.01 1.00/0.57/1.00 1.00 0.95 0.03   0\n",
      "  9  ...................   0.37  0.01 1.00/0.76/1.00 1.00 0.98 0.03   0\n",
      " 10  ...................   0.25  0.01 1.00/0.76/1.00 1.00 0.99 0.03   0\n",
      " 11  ...................   0.25  0.01 1.00/0.76/1.00 1.00 1.00 0.03   0\n",
      " 12  ...................   0.22  0.01 1.00/0.82/1.00 1.00 1.00 0.03   0\n",
      " 13  ...................   0.17  0.01 1.00/0.83/1.00 1.00 1.00 0.03   0\n",
      " 14  ...................   0.00  0.01 1.00/1.00/1.00 1.00 1.00 0.03   0\n",
      " 15  ...................   0.00  0.01 1.00/1.00/1.00 1.00 1.00 0.03   0\n",
      "[mcl] jury pruning marks: <66,95,99>, out of 100\n",
      "[mcl] jury pruning synopsis: <77.4 or good> (cf -scheme, -do log)\n",
      "[mcl] output is in ../summer-2022/ppi_out/inflation_tests/G10_I3.0_2\n",
      "[mcl] 9315 clusters found\n",
      "[mcl] output is in ../summer-2022/ppi_out/inflation_tests/G10_I3.0_2\n",
      "\n",
      "Please cite:\n",
      "    Stijn van Dongen, Graph Clustering by Flow Simulation.  PhD thesis,\n",
      "    University of Utrecht, May 2000.\n",
      "       (  http://www.library.uu.nl/digiarchief/dip/diss/1895620/full.pdf\n",
      "       or  http://micans.org/mcl/lit/svdthesis.pdf.gz)\n",
      "OR\n",
      "    Stijn van Dongen, A cluster algorithm for graphs. Technical\n",
      "    Report INS-R0010, National Research Institute for Mathematics\n",
      "    and Computer Science in the Netherlands, Amsterdam, May 2000.\n",
      "       (  http://www.cwi.nl/ftp/CWIreports/INS/INS-R0010.ps.Z\n",
      "       or  http://micans.org/mcl/lit/INS-R0010.ps.Z)\n",
      "\n",
      ".."
     ]
    },
    {
     "name": "stdout",
     "output_type": "stream",
     "text": [
      "Running mcl for G11\n"
     ]
    },
    {
     "name": "stderr",
     "output_type": "stream",
     "text": [
      "..............[mcl] new tab created\n",
      "[mcl] pid 2451\n",
      " ite -------------------  chaos  time hom(avg,lo,hi) m-ie m-ex i-ex fmv\n",
      "  1  ................... 383.04  4.43 0.98/0.00/7.57 72.82 30.58 30.58  47\n",
      "  2  ................... 168.01 57.73 0.69/0.14/2.01 18.72 0.15 4.59  99\n",
      "  3  ...................  39.04  3.38 0.84/0.07/1.72 24.13 0.07 0.32  81\n",
      "  4  ...................  11.79  0.08 0.92/0.22/4.28 2.33 0.28 0.09   2\n",
      "  5  ...................   3.60  0.02 0.97/0.45/1.63 1.12 0.56 0.05   0\n",
      "  6  ...................   0.87  0.01 0.99/0.49/1.59 1.00 0.76 0.04   0\n",
      "  7  ...................   0.62  0.01 1.00/0.56/1.14 1.00 0.89 0.03   0\n",
      "  8  ...................   0.41  0.01 1.00/0.56/1.00 1.00 0.95 0.03   0\n",
      "  9  ...................   0.37  0.01 1.00/0.76/1.00 1.00 0.98 0.03   0\n",
      " 10  ...................   0.25  0.01 1.00/0.76/1.00 1.00 0.99 0.03   0\n",
      " 11  ...................   0.25  0.01 1.00/0.76/1.00 1.00 1.00 0.03   0\n",
      " 12  ...................   0.15  0.01 1.00/0.85/1.00 1.00 1.00 0.03   0\n",
      " 13  ...................   0.00  0.01 1.00/1.00/1.00 1.00 1.00 0.03   0\n",
      " 14  ...................   0.00  0.01 1.00/1.00/1.00 1.00 1.00 0.03   0\n",
      "[mcl] jury pruning marks: <66,95,99>, out of 100\n",
      "[mcl] jury pruning synopsis: <77.4 or good> (cf -scheme, -do log)\n",
      "[mcl] output is in ../summer-2022/ppi_out/inflation_tests/G11_I3.0_2\n",
      "[mcl] 9241 clusters found\n",
      "[mcl] output is in ../summer-2022/ppi_out/inflation_tests/G11_I3.0_2\n",
      "\n",
      "Please cite:\n",
      "    Stijn van Dongen, Graph Clustering by Flow Simulation.  PhD thesis,\n",
      "    University of Utrecht, May 2000.\n",
      "       (  http://www.library.uu.nl/digiarchief/dip/diss/1895620/full.pdf\n",
      "       or  http://micans.org/mcl/lit/svdthesis.pdf.gz)\n",
      "OR\n",
      "    Stijn van Dongen, A cluster algorithm for graphs. Technical\n",
      "    Report INS-R0010, National Research Institute for Mathematics\n",
      "    and Computer Science in the Netherlands, Amsterdam, May 2000.\n",
      "       (  http://www.cwi.nl/ftp/CWIreports/INS/INS-R0010.ps.Z\n",
      "       or  http://micans.org/mcl/lit/INS-R0010.ps.Z)\n",
      "\n",
      ".."
     ]
    },
    {
     "name": "stdout",
     "output_type": "stream",
     "text": [
      "Running mcl for G12\n"
     ]
    },
    {
     "name": "stderr",
     "output_type": "stream",
     "text": [
      "..............[mcl] new tab created\n",
      "[mcl] pid 2468\n",
      " ite -------------------  chaos  time hom(avg,lo,hi) m-ie m-ex i-ex fmv\n",
      "  1  ................... 384.33  4.58 0.98/0.00/7.57 72.86 30.56 30.56  48\n",
      "  2  ................... 168.01 57.85 0.69/0.14/2.01 18.68 0.15 4.59  99\n",
      "  3  ...................  39.02  3.30 0.84/0.07/1.72 23.99 0.07 0.31  82\n",
      "  4  ...................  13.15  0.09 0.92/0.22/4.27 2.33 0.28 0.09   2\n",
      "  5  ...................   3.61  0.02 0.97/0.40/1.74 1.13 0.56 0.05   0\n",
      "  6  ...................   0.86  0.01 0.99/0.50/1.56 1.00 0.75 0.04   0\n",
      "  7  ...................   0.61  0.01 1.00/0.56/1.14 1.00 0.89 0.03   0\n",
      "  8  ...................   0.42  0.01 1.00/0.56/1.00 1.00 0.95 0.03   0\n",
      "  9  ...................   0.30  0.01 1.00/0.76/1.00 1.00 0.98 0.03   0\n",
      " 10  ...................   0.25  0.01 1.00/0.76/1.00 1.00 0.99 0.03   0\n",
      " 11  ...................   0.25  0.01 1.00/0.76/1.00 1.00 1.00 0.03   0\n",
      " 12  ...................   0.24  0.01 1.00/0.76/1.00 1.00 1.00 0.03   0\n",
      " 13  ...................   0.03  0.01 1.00/0.97/1.00 1.00 1.00 0.03   0\n",
      " 14  ...................   0.00  0.01 1.00/1.00/1.00 1.00 1.00 0.03   0\n",
      "[mcl] jury pruning marks: <66,95,99>, out of 100\n",
      "[mcl] jury pruning synopsis: <77.4 or good> (cf -scheme, -do log)\n",
      "[mcl] output is in ../summer-2022/ppi_out/inflation_tests/G12_I3.0_2\n",
      "[mcl] 9125 clusters found\n",
      "[mcl] output is in ../summer-2022/ppi_out/inflation_tests/G12_I3.0_2\n",
      "\n",
      "Please cite:\n",
      "    Stijn van Dongen, Graph Clustering by Flow Simulation.  PhD thesis,\n",
      "    University of Utrecht, May 2000.\n",
      "       (  http://www.library.uu.nl/digiarchief/dip/diss/1895620/full.pdf\n",
      "       or  http://micans.org/mcl/lit/svdthesis.pdf.gz)\n",
      "OR\n",
      "    Stijn van Dongen, A cluster algorithm for graphs. Technical\n",
      "    Report INS-R0010, National Research Institute for Mathematics\n",
      "    and Computer Science in the Netherlands, Amsterdam, May 2000.\n",
      "       (  http://www.cwi.nl/ftp/CWIreports/INS/INS-R0010.ps.Z\n",
      "       or  http://micans.org/mcl/lit/INS-R0010.ps.Z)\n",
      "\n",
      ".."
     ]
    },
    {
     "name": "stdout",
     "output_type": "stream",
     "text": [
      "Running mcl for G13\n"
     ]
    },
    {
     "name": "stderr",
     "output_type": "stream",
     "text": [
      "..............[mcl] new tab created\n",
      "[mcl] pid 2484\n",
      " ite -------------------  chaos  time hom(avg,lo,hi) m-ie m-ex i-ex fmv\n",
      "  1  ................... 383.04  4.47 0.98/0.00/7.57 72.76 30.55 30.55  47\n",
      "  2  ................... 168.01 59.11 0.69/0.14/2.01 18.75 0.15 4.58  99\n",
      "  3  ...................  39.04  4.34 0.84/0.07/1.72 24.15 0.07 0.32  81\n",
      "  4  ...................  11.79  0.11 0.92/0.22/4.29 2.33 0.28 0.09   2\n",
      "  5  ...................   3.60  0.02 0.97/0.45/1.63 1.12 0.56 0.05   0\n",
      "  6  ...................   0.87  0.02 0.99/0.49/1.59 1.00 0.76 0.04   0\n",
      "  7  ...................   0.70  0.01 1.00/0.56/1.14 1.00 0.89 0.03   0\n",
      "  8  ...................   1.29  0.01 1.00/0.57/1.00 1.00 0.95 0.03   0\n",
      "  9  ...................   1.16  0.01 1.00/0.75/1.00 1.00 0.98 0.03   0\n",
      " 10  ...................   0.25  0.01 1.00/0.76/1.00 1.00 0.99 0.03   0\n",
      " 11  ...................   0.25  0.01 1.00/0.76/1.00 1.00 1.00 0.03   0\n",
      " 12  ...................   0.22  0.01 1.00/0.82/1.00 1.00 1.00 0.03   0\n",
      " 13  ...................   0.17  0.01 1.00/0.83/1.00 1.00 1.00 0.03   0\n",
      " 14  ...................   0.00  0.01 1.00/1.00/1.00 1.00 1.00 0.03   0\n",
      " 15  ...................   0.00  0.01 1.00/1.00/1.00 1.00 1.00 0.03   0\n",
      "[mcl] jury pruning marks: <66,95,99>, out of 100\n",
      "[mcl] jury pruning synopsis: <77.4 or good> (cf -scheme, -do log)\n",
      "[mcl] output is in ../summer-2022/ppi_out/inflation_tests/G13_I3.0_2\n",
      "[mcl] 9315 clusters found\n",
      "[mcl] output is in ../summer-2022/ppi_out/inflation_tests/G13_I3.0_2\n",
      "\n",
      "Please cite:\n",
      "    Stijn van Dongen, Graph Clustering by Flow Simulation.  PhD thesis,\n",
      "    University of Utrecht, May 2000.\n",
      "       (  http://www.library.uu.nl/digiarchief/dip/diss/1895620/full.pdf\n",
      "       or  http://micans.org/mcl/lit/svdthesis.pdf.gz)\n",
      "OR\n",
      "    Stijn van Dongen, A cluster algorithm for graphs. Technical\n",
      "    Report INS-R0010, National Research Institute for Mathematics\n",
      "    and Computer Science in the Netherlands, Amsterdam, May 2000.\n",
      "       (  http://www.cwi.nl/ftp/CWIreports/INS/INS-R0010.ps.Z\n",
      "       or  http://micans.org/mcl/lit/INS-R0010.ps.Z)\n",
      "\n",
      "..."
     ]
    },
    {
     "name": "stdout",
     "output_type": "stream",
     "text": [
      "Running mcl for G14\n"
     ]
    },
    {
     "name": "stderr",
     "output_type": "stream",
     "text": [
      ".............[mcl] new tab created\n",
      "[mcl] pid 2501\n",
      " ite -------------------  chaos  time hom(avg,lo,hi) m-ie m-ex i-ex fmv\n",
      "  1  ................... 384.33  4.66 0.98/0.00/7.57 72.86 30.56 30.56  48\n",
      "  2  ................... 168.01 58.39 0.69/0.14/2.01 18.67 0.15 4.59  99\n",
      "  3  ...................  39.00  3.86 0.84/0.07/1.72 23.98 0.07 0.31  82\n",
      "  4  ...................  13.15  0.08 0.92/0.22/4.28 2.33 0.28 0.09   2\n",
      "  5  ...................   3.62  0.02 0.97/0.40/1.74 1.13 0.56 0.05   0\n",
      "  6  ...................   0.83  0.01 0.99/0.50/1.56 1.00 0.75 0.04   0\n",
      "  7  ...................   0.70  0.01 1.00/0.56/1.13 1.00 0.89 0.03   0\n",
      "  8  ...................   1.29  0.01 1.00/0.56/1.00 1.00 0.95 0.03   0\n",
      "  9  ...................   1.16  0.01 1.00/0.75/1.00 1.00 0.98 0.03   0\n",
      " 10  ...................   0.25  0.02 1.00/0.76/1.00 1.00 0.99 0.03   0\n",
      " 11  ...................   0.25  0.01 1.00/0.76/1.00 1.00 1.00 0.03   0\n",
      " 12  ...................   0.25  0.01 1.00/0.76/1.00 1.00 1.00 0.03   0\n",
      " 13  ...................   0.06  0.01 1.00/0.94/1.00 1.00 1.00 0.03   0\n",
      " 14  ...................   0.00  0.01 1.00/1.00/1.00 1.00 1.00 0.03   0\n",
      "[mcl] jury pruning marks: <66,95,99>, out of 100\n",
      "[mcl] jury pruning synopsis: <77.4 or good> (cf -scheme, -do log)\n",
      "[mcl] output is in ../summer-2022/ppi_out/inflation_tests/G14_I3.0_2\n",
      "[mcl] 9103 clusters found\n",
      "[mcl] output is in ../summer-2022/ppi_out/inflation_tests/G14_I3.0_2\n",
      "\n",
      "Please cite:\n",
      "    Stijn van Dongen, Graph Clustering by Flow Simulation.  PhD thesis,\n",
      "    University of Utrecht, May 2000.\n",
      "       (  http://www.library.uu.nl/digiarchief/dip/diss/1895620/full.pdf\n",
      "       or  http://micans.org/mcl/lit/svdthesis.pdf.gz)\n",
      "OR\n",
      "    Stijn van Dongen, A cluster algorithm for graphs. Technical\n",
      "    Report INS-R0010, National Research Institute for Mathematics\n",
      "    and Computer Science in the Netherlands, Amsterdam, May 2000.\n",
      "       (  http://www.cwi.nl/ftp/CWIreports/INS/INS-R0010.ps.Z\n",
      "       or  http://micans.org/mcl/lit/INS-R0010.ps.Z)\n",
      "\n"
     ]
    },
    {
     "name": "stdout",
     "output_type": "stream",
     "text": [
      "Running mcl for G15\n"
     ]
    },
    {
     "name": "stderr",
     "output_type": "stream",
     "text": [
      "................[mcl] new tab created\n",
      "[mcl] pid 2524\n",
      " ite -------------------  chaos  time hom(avg,lo,hi) m-ie m-ex i-ex fmv\n",
      "  1  ................... 227.38  4.22 0.98/0.00/7.57 68.20 27.51 27.51  65\n",
      "  2  ................... 168.26 47.06 0.70/0.14/2.01 14.43 0.18 4.84 100\n",
      "  3  ...................  39.67  3.25 0.82/0.07/1.62 24.02 0.07 0.32  97\n",
      "  4  ...................  13.19  0.07 0.90/0.24/2.09 2.49 0.26 0.08   3\n",
      "  5  ...................   2.83  0.01 0.96/0.41/1.72 1.14 0.51 0.04   0\n",
      "  6  ...................   1.08  0.01 0.98/0.46/1.66 1.01 0.72 0.03   0\n",
      "  7  ...................   0.55  0.01 0.99/0.51/1.19 1.00 0.87 0.03   0\n",
      "  8  ...................   0.34  0.01 1.00/0.71/1.01 1.00 0.95 0.03   0\n",
      "  9  ...................   0.25  0.01 1.00/0.61/1.00 1.00 0.98 0.02   0\n",
      " 10  ...................   0.24  0.01 1.00/0.78/1.00 1.00 0.99 0.02   0\n",
      " 11  ...................   0.24  0.01 1.00/0.78/1.00 1.00 1.00 0.02   0\n",
      " 12  ...................   0.23  0.01 1.00/0.81/1.00 1.00 1.00 0.02   0\n",
      " 13  ...................   0.16  0.01 1.00/0.84/1.00 1.00 1.00 0.02   0\n",
      " 14  ...................   0.25  0.01 1.00/0.77/1.00 1.00 1.00 0.02   0\n",
      " 15  ...................   0.08  0.01 1.00/0.92/1.00 1.00 1.00 0.02   0\n",
      " 16  ...................   0.00  0.01 1.00/1.00/1.00 1.00 1.00 0.02   0\n",
      "[mcl] jury pruning marks: <66,95,99>, out of 100\n",
      "[mcl] jury pruning synopsis: <77.4 or good> (cf -scheme, -do log)\n",
      "[mcl] output is in ../summer-2022/ppi_out/inflation_tests/G15_I3.0_2\n",
      "[mcl] 9220 clusters found\n",
      "[mcl] output is in ../summer-2022/ppi_out/inflation_tests/G15_I3.0_2\n",
      "\n",
      "Please cite:\n",
      "    Stijn van Dongen, Graph Clustering by Flow Simulation.  PhD thesis,\n",
      "    University of Utrecht, May 2000.\n",
      "       (  http://www.library.uu.nl/digiarchief/dip/diss/1895620/full.pdf\n",
      "       or  http://micans.org/mcl/lit/svdthesis.pdf.gz)\n",
      "OR\n",
      "    Stijn van Dongen, A cluster algorithm for graphs. Technical\n",
      "    Report INS-R0010, National Research Institute for Mathematics\n",
      "    and Computer Science in the Netherlands, Amsterdam, May 2000.\n",
      "       (  http://www.cwi.nl/ftp/CWIreports/INS/INS-R0010.ps.Z\n",
      "       or  http://micans.org/mcl/lit/INS-R0010.ps.Z)\n",
      "\n",
      "..."
     ]
    },
    {
     "name": "stdout",
     "output_type": "stream",
     "text": [
      "Running mcl for G16\n"
     ]
    },
    {
     "name": "stderr",
     "output_type": "stream",
     "text": [
      ".............[mcl] new tab created\n",
      "[mcl] pid 2543\n",
      " ite -------------------  chaos  time hom(avg,lo,hi) m-ie m-ex i-ex fmv\n",
      "  1  ................... 383.04  4.31 0.98/0.00/7.57 72.80 30.57 30.57  47\n",
      "  2  ................... 168.01 57.85 0.69/0.14/2.01 18.74 0.15 4.58  99\n",
      "  3  ...................  39.04  3.66 0.84/0.07/1.72 24.14 0.07 0.32  81\n",
      "  4  ...................  11.79  0.08 0.92/0.22/4.29 2.33 0.28 0.09   2\n",
      "  5  ...................   3.60  0.02 0.97/0.45/1.63 1.12 0.56 0.05   0\n",
      "  6  ...................   0.87  0.02 0.99/0.49/1.59 1.00 0.76 0.04   0\n",
      "  7  ...................   0.63  0.01 1.00/0.56/1.14 1.00 0.89 0.03   0\n",
      "  8  ...................   0.41  0.01 1.00/0.57/1.00 1.00 0.95 0.03   0\n",
      "  9  ...................   0.35  0.01 1.00/0.76/1.00 1.00 0.98 0.03   0\n",
      " 10  ...................   0.25  0.01 1.00/0.76/1.00 1.00 0.99 0.03   0\n",
      " 11  ...................   0.25  0.01 1.00/0.76/1.00 1.00 1.00 0.03   0\n",
      " 12  ...................   0.25  0.01 1.00/0.76/1.00 1.00 1.00 0.03   0\n",
      " 13  ...................   0.07  0.01 1.00/0.93/1.00 1.00 1.00 0.03   0\n",
      " 14  ...................   0.00  0.01 1.00/1.00/1.00 1.00 1.00 0.03   0\n",
      "[mcl] jury pruning marks: <66,95,99>, out of 100\n",
      "[mcl] jury pruning synopsis: <77.4 or good> (cf -scheme, -do log)\n",
      "[mcl] output is in ../summer-2022/ppi_out/inflation_tests/G16_I3.0_2\n",
      "[mcl] 9274 clusters found\n",
      "[mcl] output is in ../summer-2022/ppi_out/inflation_tests/G16_I3.0_2\n",
      "\n",
      "Please cite:\n",
      "    Stijn van Dongen, Graph Clustering by Flow Simulation.  PhD thesis,\n",
      "    University of Utrecht, May 2000.\n",
      "       (  http://www.library.uu.nl/digiarchief/dip/diss/1895620/full.pdf\n",
      "       or  http://micans.org/mcl/lit/svdthesis.pdf.gz)\n",
      "OR\n",
      "    Stijn van Dongen, A cluster algorithm for graphs. Technical\n",
      "    Report INS-R0010, National Research Institute for Mathematics\n",
      "    and Computer Science in the Netherlands, Amsterdam, May 2000.\n",
      "       (  http://www.cwi.nl/ftp/CWIreports/INS/INS-R0010.ps.Z\n",
      "       or  http://micans.org/mcl/lit/INS-R0010.ps.Z)\n",
      "\n",
      "..."
     ]
    },
    {
     "name": "stdout",
     "output_type": "stream",
     "text": [
      "Running mcl for G17\n"
     ]
    },
    {
     "name": "stderr",
     "output_type": "stream",
     "text": [
      ".............[mcl] new tab created\n",
      "[mcl] pid 2562\n",
      " ite -------------------  chaos  time hom(avg,lo,hi) m-ie m-ex i-ex fmv\n",
      "  1  ................... 266.12  4.92 1.00/0.00/7.57 73.10 30.72 30.72  48\n",
      "  2  ................... 168.01 53.34 0.69/0.14/2.01 18.53 0.15 4.61 100\n",
      "  3  ...................  38.99  2.96 0.84/0.07/1.72 23.58 0.07 0.31  82\n",
      "  4  ...................  13.18  0.07 0.92/0.21/4.27 2.32 0.28 0.09   2\n",
      "  5  ...................   3.23  0.01 0.96/0.38/1.33 1.13 0.57 0.05   0\n",
      "  6  ...................   0.88  0.01 0.99/0.51/1.56 1.00 0.74 0.04   0\n",
      "  7  ...................   0.61  0.01 1.00/0.54/1.68 1.00 0.88 0.03   0\n",
      "  8  ...................   0.40  0.01 1.00/0.51/1.00 1.00 0.95 0.03   0\n",
      "  9  ...................   0.41  0.01 1.00/0.72/1.00 1.00 0.98 0.03   0\n",
      " 10  ...................   0.25  0.01 1.00/0.76/1.00 1.00 0.99 0.03   0\n",
      " 11  ...................   0.25  0.01 1.00/0.76/1.00 1.00 1.00 0.03   0\n",
      " 12  ...................   0.17  0.01 1.00/0.83/1.00 1.00 1.00 0.03   0\n",
      " 13  ...................   0.19  0.01 1.00/0.87/1.00 1.00 1.00 0.03   0\n",
      " 14  ...................   0.23  0.01 1.00/0.77/1.00 1.00 1.00 0.03   0\n",
      " 15  ...................   0.02  0.01 1.00/0.98/1.00 1.00 1.00 0.03   0\n",
      " 16  ...................   0.00  0.01 1.00/1.00/1.00 1.00 1.00 0.03   0\n",
      "[mcl] jury pruning marks: <66,95,99>, out of 100\n",
      "[mcl] jury pruning synopsis: <77.4 or good> (cf -scheme, -do log)\n",
      "[mcl] output is in ../summer-2022/ppi_out/inflation_tests/G17_I3.0_2\n",
      "[mcl] 8811 clusters found\n",
      "[mcl] output is in ../summer-2022/ppi_out/inflation_tests/G17_I3.0_2\n",
      "\n",
      "Please cite:\n",
      "    Stijn van Dongen, Graph Clustering by Flow Simulation.  PhD thesis,\n",
      "    University of Utrecht, May 2000.\n",
      "       (  http://www.library.uu.nl/digiarchief/dip/diss/1895620/full.pdf\n",
      "       or  http://micans.org/mcl/lit/svdthesis.pdf.gz)\n",
      "OR\n",
      "    Stijn van Dongen, A cluster algorithm for graphs. Technical\n",
      "    Report INS-R0010, National Research Institute for Mathematics\n",
      "    and Computer Science in the Netherlands, Amsterdam, May 2000.\n",
      "       (  http://www.cwi.nl/ftp/CWIreports/INS/INS-R0010.ps.Z\n",
      "       or  http://micans.org/mcl/lit/INS-R0010.ps.Z)\n",
      "\n",
      "..."
     ]
    },
    {
     "name": "stdout",
     "output_type": "stream",
     "text": [
      "Running mcl for G18\n"
     ]
    },
    {
     "name": "stderr",
     "output_type": "stream",
     "text": [
      "..........[mcl] new tab created\n",
      "[mcl] pid 2591\n",
      " ite -------------------  chaos  time hom(avg,lo,hi) m-ie m-ex i-ex fmv\n",
      "  1  ................... 189.11  2.91 1.12/0.00/7.94 64.45 27.10 27.10  68\n",
      "  2  ................... 169.62 34.61 0.64/0.08/1.73 12.45 0.17 4.66 100\n",
      "  3  ...................  37.69  2.01 0.74/0.06/3.61 17.51 0.08 0.39  96\n",
      "  4  ...................  18.10  0.07 0.89/0.20/1.81 2.45 0.24 0.09   4\n",
      "  5  ...................   3.34  0.01 0.96/0.33/1.46 1.17 0.48 0.04   0\n",
      "  6  ...................   1.19  0.01 0.99/0.47/1.58 1.01 0.71 0.03   0\n",
      "  7  ...................   0.64  0.01 1.00/0.56/1.17 1.00 0.86 0.03   0\n",
      "  8  ...................   0.39  0.01 1.00/0.52/1.18 1.00 0.95 0.03   0\n",
      "  9  ...................   0.25  0.01 1.00/0.62/1.26 1.00 0.98 0.03   0\n",
      " 10  ...................   0.25  0.01 1.00/0.57/1.00 1.00 0.99 0.03   0\n",
      " 11  ...................   0.25  0.00 1.00/0.76/1.00 1.00 1.00 0.02   0\n",
      " 12  ...................   0.05  0.01 1.00/0.95/1.00 1.00 1.00 0.02   0\n",
      " 13  ...................   0.08  0.01 1.00/0.98/1.00 1.00 1.00 0.02   0\n",
      " 14  ...................   0.20  0.01 1.00/0.86/1.00 1.00 1.00 0.02   0\n",
      " 15  ...................   0.22  0.00 1.00/0.78/1.00 1.00 1.00 0.02   0\n",
      " 16  ...................   0.01  0.00 1.00/0.99/1.00 1.00 1.00 0.02   0\n",
      " 17  ...................   0.00  0.00 1.00/1.00/1.00 1.00 1.00 0.02   0\n",
      "[mcl] jury pruning marks: <71,95,99>, out of 100\n",
      "[mcl] jury pruning synopsis: <80.5 or favourable> (cf -scheme, -do log)\n",
      "[mcl] output is in ../summer-2022/ppi_out/inflation_tests/G18_I3.0_2\n",
      "[mcl] 4597 clusters found\n",
      "[mcl] output is in ../summer-2022/ppi_out/inflation_tests/G18_I3.0_2\n",
      "\n",
      "Please cite:\n",
      "    Stijn van Dongen, Graph Clustering by Flow Simulation.  PhD thesis,\n",
      "    University of Utrecht, May 2000.\n",
      "       (  http://www.library.uu.nl/digiarchief/dip/diss/1895620/full.pdf\n",
      "       or  http://micans.org/mcl/lit/svdthesis.pdf.gz)\n",
      "OR\n",
      "    Stijn van Dongen, A cluster algorithm for graphs. Technical\n",
      "    Report INS-R0010, National Research Institute for Mathematics\n",
      "    and Computer Science in the Netherlands, Amsterdam, May 2000.\n",
      "       (  http://www.cwi.nl/ftp/CWIreports/INS/INS-R0010.ps.Z\n",
      "       or  http://micans.org/mcl/lit/INS-R0010.ps.Z)\n",
      "\n",
      "..."
     ]
    },
    {
     "name": "stdout",
     "output_type": "stream",
     "text": [
      "Running mcl for G19\n"
     ]
    },
    {
     "name": "stderr",
     "output_type": "stream",
     "text": [
      ".............[mcl] new tab created\n",
      "[mcl] pid 2592\n",
      " ite -------------------  chaos  time hom(avg,lo,hi) m-ie m-ex i-ex fmv\n",
      "  1  ................... 384.33  4.03 0.98/0.00/7.57 72.89 30.58 30.58  48\n",
      "  2  ................... 168.01 53.21 0.69/0.14/2.01 18.66 0.15 4.60 100\n",
      "  3  ...................  39.02  3.30 0.84/0.07/1.72 23.97 0.07 0.31  82\n",
      "  4  ...................  13.15  0.07 0.92/0.22/4.27 2.33 0.28 0.09   2\n",
      "  5  ...................   3.61  0.02 0.96/0.40/1.74 1.13 0.57 0.05   0\n",
      "  6  ...................   0.86  0.01 0.99/0.50/1.56 1.00 0.75 0.04   0\n",
      "  7  ...................   0.61  0.01 1.00/0.56/1.04 1.00 0.88 0.03   0\n",
      "  8  ...................   0.42  0.01 1.00/0.58/1.00 1.00 0.95 0.03   0\n",
      "  9  ...................   0.30  0.01 1.00/0.76/1.00 1.00 0.98 0.03   0\n",
      " 10  ...................   0.25  0.01 1.00/0.76/1.00 1.00 0.99 0.03   0\n",
      " 11  ...................   0.25  0.01 1.00/0.76/1.00 1.00 1.00 0.03   0\n",
      " 12  ...................   0.18  0.01 1.00/0.88/1.00 1.00 1.00 0.03   0\n",
      " 13  ...................   0.24  0.01 1.00/0.77/1.00 1.00 1.00 0.03   0\n",
      " 14  ...................   0.03  0.01 1.00/0.97/1.00 1.00 1.00 0.03   0\n",
      " 15  ...................   0.00  0.01 1.00/1.00/1.00 1.00 1.00 0.03   0\n",
      "[mcl] jury pruning marks: <66,95,99>, out of 100\n",
      "[mcl] jury pruning synopsis: <77.4 or good> (cf -scheme, -do log)\n",
      "[mcl] output is in ../summer-2022/ppi_out/inflation_tests/G19_I3.0_2\n",
      "[mcl] 9098 clusters found\n",
      "[mcl] output is in ../summer-2022/ppi_out/inflation_tests/G19_I3.0_2\n",
      "\n",
      "Please cite:\n",
      "    Stijn van Dongen, Graph Clustering by Flow Simulation.  PhD thesis,\n",
      "    University of Utrecht, May 2000.\n",
      "       (  http://www.library.uu.nl/digiarchief/dip/diss/1895620/full.pdf\n",
      "       or  http://micans.org/mcl/lit/svdthesis.pdf.gz)\n",
      "OR\n",
      "    Stijn van Dongen, A cluster algorithm for graphs. Technical\n",
      "    Report INS-R0010, National Research Institute for Mathematics\n",
      "    and Computer Science in the Netherlands, Amsterdam, May 2000.\n",
      "       (  http://www.cwi.nl/ftp/CWIreports/INS/INS-R0010.ps.Z\n",
      "       or  http://micans.org/mcl/lit/INS-R0010.ps.Z)\n",
      "\n",
      ".."
     ]
    },
    {
     "name": "stdout",
     "output_type": "stream",
     "text": [
      "Running mcl for G20\n"
     ]
    },
    {
     "name": "stderr",
     "output_type": "stream",
     "text": [
      "..............[mcl] new tab created\n",
      "[mcl] pid 2613\n",
      " ite -------------------  chaos  time hom(avg,lo,hi) m-ie m-ex i-ex fmv\n",
      "  1  ................... 201.16  3.93 1.03/0.00/7.55 68.68 27.72 27.72  68\n",
      "  2  ................... 164.66 44.09 0.70/0.14/1.90 13.31 0.18 4.93  99\n",
      "  3  ...................  39.76  3.05 0.83/0.07/1.51 22.44 0.06 0.32  97\n",
      "  4  ...................  12.24  0.06 0.90/0.29/2.56 2.49 0.26 0.08   3\n",
      "  5  ...................   2.82  0.01 0.95/0.43/1.72 1.12 0.52 0.04   0\n",
      "  6  ...................   1.06  0.01 0.98/0.38/1.19 1.01 0.70 0.03   0\n",
      "  7  ...................   0.52  0.01 0.99/0.54/1.19 1.00 0.85 0.03   0\n",
      "  8  ...................   0.39  0.01 1.00/0.61/1.19 1.00 0.94 0.02   0\n",
      "  9  ...................   0.37  0.01 1.00/0.56/1.00 1.00 0.98 0.02   0\n",
      " 10  ...................   0.25  0.01 1.00/0.75/1.00 1.00 0.99 0.02   0\n",
      " 11  ...................   0.25  0.01 1.00/0.76/1.00 1.00 1.00 0.02   0\n",
      " 12  ...................   0.16  0.01 1.00/0.84/1.00 1.00 1.00 0.02   0\n",
      " 13  ...................   0.00  0.01 1.00/1.00/1.00 1.00 1.00 0.02   0\n",
      " 14  ...................   0.00  0.01 1.00/1.00/1.00 1.00 1.00 0.02   0\n",
      "[mcl] cut <1> instances of overlap\n",
      "[mcl] jury pruning marks: <66,95,99>, out of 100\n",
      "[mcl] jury pruning synopsis: <77.4 or good> (cf -scheme, -do log)\n",
      "[mcl] output is in ../summer-2022/ppi_out/inflation_tests/G20_I3.0_2\n",
      "[mcl] 8460 clusters found\n",
      "[mcl] output is in ../summer-2022/ppi_out/inflation_tests/G20_I3.0_2\n",
      "\n",
      "Please cite:\n",
      "    Stijn van Dongen, Graph Clustering by Flow Simulation.  PhD thesis,\n",
      "    University of Utrecht, May 2000.\n",
      "       (  http://www.library.uu.nl/digiarchief/dip/diss/1895620/full.pdf\n",
      "       or  http://micans.org/mcl/lit/svdthesis.pdf.gz)\n",
      "OR\n",
      "    Stijn van Dongen, A cluster algorithm for graphs. Technical\n",
      "    Report INS-R0010, National Research Institute for Mathematics\n",
      "    and Computer Science in the Netherlands, Amsterdam, May 2000.\n",
      "       (  http://www.cwi.nl/ftp/CWIreports/INS/INS-R0010.ps.Z\n",
      "       or  http://micans.org/mcl/lit/INS-R0010.ps.Z)\n",
      "\n",
      "..."
     ]
    },
    {
     "name": "stdout",
     "output_type": "stream",
     "text": [
      "Running mcl for G21\n"
     ]
    },
    {
     "name": "stderr",
     "output_type": "stream",
     "text": [
      ".............[mcl] new tab created\n",
      "[mcl] pid 2616\n",
      " ite -------------------  chaos  time hom(avg,lo,hi) m-ie m-ex i-ex fmv\n",
      "  1  ................... 206.47  3.75 1.00/0.00/7.57 69.11 28.01 28.01  64\n",
      "  2  ................... 167.75 45.32 0.69/0.14/2.01 14.49 0.17 4.81 100\n",
      "  3  ...................  39.39  3.05 0.82/0.07/1.60 23.45 0.07 0.32  96\n",
      "  4  ...................  13.24  0.07 0.90/0.22/1.86 2.45 0.26 0.08   3\n",
      "  5  ...................   3.46  0.01 0.96/0.46/1.89 1.15 0.53 0.04   0\n",
      "  6  ...................   1.08  0.01 0.98/0.42/1.24 1.01 0.71 0.03   0\n",
      "  7  ...................   0.49  0.01 0.99/0.50/1.15 1.00 0.86 0.03   0\n",
      "  8  ...................   0.38  0.01 1.00/0.57/1.05 1.00 0.94 0.03   0\n",
      "  9  ...................   0.34  0.01 1.00/0.76/1.00 1.00 0.98 0.03   0\n",
      " 10  ...................   0.25  0.01 1.00/0.76/1.00 1.00 0.99 0.02   0\n",
      " 11  ...................   0.23  0.01 1.00/0.80/1.00 1.00 1.00 0.02   0\n",
      " 12  ...................   0.25  0.01 1.00/0.76/1.00 1.00 1.00 0.02   0\n",
      " 13  ...................   0.21  0.01 1.00/0.79/1.00 1.00 1.00 0.02   0\n",
      " 14  ...................   0.01  0.01 1.00/0.99/1.00 1.00 1.00 0.02   0\n",
      " 15  ...................   0.00  0.01 1.00/1.00/1.00 1.00 1.00 0.02   0\n",
      "[mcl] jury pruning marks: <66,95,99>, out of 100\n",
      "[mcl] jury pruning synopsis: <77.4 or good> (cf -scheme, -do log)\n",
      "[mcl] output is in ../summer-2022/ppi_out/inflation_tests/G21_I3.0_2\n",
      "[mcl] 8758 clusters found\n",
      "[mcl] output is in ../summer-2022/ppi_out/inflation_tests/G21_I3.0_2\n",
      "\n",
      "Please cite:\n",
      "    Stijn van Dongen, Graph Clustering by Flow Simulation.  PhD thesis,\n",
      "    University of Utrecht, May 2000.\n",
      "       (  http://www.library.uu.nl/digiarchief/dip/diss/1895620/full.pdf\n",
      "       or  http://micans.org/mcl/lit/svdthesis.pdf.gz)\n",
      "OR\n",
      "    Stijn van Dongen, A cluster algorithm for graphs. Technical\n",
      "    Report INS-R0010, National Research Institute for Mathematics\n",
      "    and Computer Science in the Netherlands, Amsterdam, May 2000.\n",
      "       (  http://www.cwi.nl/ftp/CWIreports/INS/INS-R0010.ps.Z\n",
      "       or  http://micans.org/mcl/lit/INS-R0010.ps.Z)\n",
      "\n",
      ".."
     ]
    },
    {
     "name": "stdout",
     "output_type": "stream",
     "text": [
      "Running mcl for G22\n"
     ]
    },
    {
     "name": "stderr",
     "output_type": "stream",
     "text": [
      "...........[mcl] new tab created\n",
      "[mcl] pid 2617\n",
      " ite -------------------  chaos  time hom(avg,lo,hi) m-ie m-ex i-ex fmv\n",
      "  1  ................... 254.99  3.16 1.16/0.00/7.94 64.52 27.28 27.28  70\n",
      "  2  ................... 170.08 34.24 0.64/0.08/1.74 12.01 0.17 4.70  99\n",
      "  3  ...................  37.10  2.05 0.74/0.06/1.83 16.85 0.08 0.39  97\n",
      "  4  ...................  17.36  0.10 0.88/0.18/1.83 2.42 0.24 0.09   5\n",
      "  5  ...................   3.14  0.02 0.95/0.41/1.64 1.17 0.48 0.04   0\n",
      "  6  ...................   0.73  0.01 0.98/0.55/1.69 1.01 0.71 0.03   0\n",
      "  7  ...................   0.66  0.01 1.00/0.53/1.70 1.00 0.86 0.03   0\n",
      "  8  ...................   0.43  0.01 1.00/0.50/1.12 1.00 0.94 0.03   0\n",
      "  9  ...................   0.35  0.01 1.00/0.60/1.10 1.00 0.98 0.02   0\n",
      " 10  ...................   0.25  0.01 1.00/0.76/1.02 1.00 0.99 0.02   0\n",
      " 11  ...................   0.24  0.01 1.00/0.76/1.00 1.00 1.00 0.02   0\n",
      " 12  ...................   0.21  0.01 1.00/0.79/1.00 1.00 1.00 0.02   0\n",
      " 13  ...................   0.01  0.01 1.00/0.99/1.00 1.00 1.00 0.02   0\n",
      " 14  ...................   0.00  0.01 1.00/1.00/1.00 1.00 1.00 0.02   0\n",
      "[mcl] jury pruning marks: <71,95,99>, out of 100\n",
      "[mcl] jury pruning synopsis: <80.5 or favourable> (cf -scheme, -do log)\n",
      "[mcl] output is in ../summer-2022/ppi_out/inflation_tests/G22_I3.0_2\n",
      "[mcl] 4219 clusters found\n",
      "[mcl] output is in ../summer-2022/ppi_out/inflation_tests/G22_I3.0_2\n",
      "\n",
      "Please cite:\n",
      "    Stijn van Dongen, Graph Clustering by Flow Simulation.  PhD thesis,\n",
      "    University of Utrecht, May 2000.\n",
      "       (  http://www.library.uu.nl/digiarchief/dip/diss/1895620/full.pdf\n",
      "       or  http://micans.org/mcl/lit/svdthesis.pdf.gz)\n",
      "OR\n",
      "    Stijn van Dongen, A cluster algorithm for graphs. Technical\n",
      "    Report INS-R0010, National Research Institute for Mathematics\n",
      "    and Computer Science in the Netherlands, Amsterdam, May 2000.\n",
      "       (  http://www.cwi.nl/ftp/CWIreports/INS/INS-R0010.ps.Z\n",
      "       or  http://micans.org/mcl/lit/INS-R0010.ps.Z)\n",
      "\n",
      ".."
     ]
    },
    {
     "name": "stdout",
     "output_type": "stream",
     "text": [
      "Running mcl for G23\n"
     ]
    },
    {
     "name": "stderr",
     "output_type": "stream",
     "text": [
      "..............[mcl] new tab created\n",
      "[mcl] pid 2623\n",
      " ite -------------------  chaos  time hom(avg,lo,hi) m-ie m-ex i-ex fmv\n",
      "  1  ................... 266.12  4.05 1.03/0.00/7.57 73.69 31.18 31.18  49\n",
      "  2  ................... 166.05 49.28 0.70/0.14/1.95 18.21 0.15 4.67 100\n",
      "  3  ...................  39.17  2.87 0.84/0.07/1.72 22.71 0.07 0.32  81\n",
      "  4  ...................  14.12  0.07 0.91/0.22/4.26 2.33 0.29 0.09   2\n",
      "  5  ...................   3.51  0.01 0.96/0.45/1.72 1.13 0.57 0.05   0\n",
      "  6  ...................   0.90  0.01 0.98/0.51/1.41 1.00 0.73 0.04   0\n",
      "  7  ...................   1.66  0.01 0.99/0.36/1.19 1.00 0.87 0.03   0\n",
      "  8  ...................   0.67  0.01 1.00/0.57/1.19 1.00 0.94 0.03   0\n",
      "  9  ...................   0.32  0.01 1.00/0.76/1.00 1.00 0.98 0.03   0\n",
      " 10  ...................   0.35  0.01 1.00/0.62/1.00 1.00 0.99 0.03   0\n",
      " 11  ...................   0.25  0.01 1.00/0.76/1.00 1.00 1.00 0.03   0\n",
      " 12  ...................   0.25  0.01 1.00/0.77/1.00 1.00 1.00 0.03   0\n",
      " 13  ...................   0.25  0.01 1.00/0.76/1.00 1.00 1.00 0.03   0\n",
      " 14  ...................   0.05  0.01 1.00/0.95/1.00 1.00 1.00 0.03   0\n",
      " 15  ...................   0.00  0.01 1.00/1.00/1.00 1.00 1.00 0.03   0\n",
      "[mcl] jury pruning marks: <66,95,99>, out of 100\n",
      "[mcl] jury pruning synopsis: <77.4 or good> (cf -scheme, -do log)\n",
      "[mcl] output is in ../summer-2022/ppi_out/inflation_tests/G23_I3.0_2\n",
      "[mcl] 8386 clusters found\n",
      "[mcl] output is in ../summer-2022/ppi_out/inflation_tests/G23_I3.0_2\n",
      "\n",
      "Please cite:\n",
      "    Stijn van Dongen, Graph Clustering by Flow Simulation.  PhD thesis,\n",
      "    University of Utrecht, May 2000.\n",
      "       (  http://www.library.uu.nl/digiarchief/dip/diss/1895620/full.pdf\n",
      "       or  http://micans.org/mcl/lit/svdthesis.pdf.gz)\n",
      "OR\n",
      "    Stijn van Dongen, A cluster algorithm for graphs. Technical\n",
      "    Report INS-R0010, National Research Institute for Mathematics\n",
      "    and Computer Science in the Netherlands, Amsterdam, May 2000.\n",
      "       (  http://www.cwi.nl/ftp/CWIreports/INS/INS-R0010.ps.Z\n",
      "       or  http://micans.org/mcl/lit/INS-R0010.ps.Z)\n",
      "\n",
      "..."
     ]
    },
    {
     "name": "stdout",
     "output_type": "stream",
     "text": [
      "Running mcl for G24\n"
     ]
    },
    {
     "name": "stderr",
     "output_type": "stream",
     "text": [
      "..........[mcl] new tab created\n",
      "[mcl] pid 2628\n",
      " ite -------------------  chaos  time hom(avg,lo,hi) m-ie m-ex i-ex fmv\n",
      "  1  ................... 188.96  2.91 1.14/0.00/7.94 64.56 27.19 27.19  69\n",
      "  2  ................... 169.74 32.86 0.64/0.08/1.73 12.21 0.17 4.68  99\n",
      "  3  ...................  37.75  1.97 0.74/0.06/3.61 17.28 0.08 0.39  97\n",
      "  4  ...................  18.06  0.07 0.89/0.20/1.89 2.44 0.24 0.09   4\n",
      "  5  ...................   3.07  0.01 0.95/0.35/1.57 1.17 0.48 0.04   0\n",
      "  6  ...................   0.85  0.01 0.98/0.48/1.31 1.01 0.71 0.03   0\n",
      "  7  ...................   0.66  0.01 1.00/0.56/1.53 1.00 0.85 0.03   0\n",
      "  8  ...................   0.30  0.01 1.00/0.55/1.08 1.00 0.95 0.03   0\n",
      "  9  ...................   0.25  0.00 1.00/0.58/1.03 1.00 0.98 0.02   0\n",
      " 10  ...................   0.24  0.00 1.00/0.81/1.00 1.00 0.99 0.02   0\n",
      " 11  ...................   0.22  0.01 1.00/0.79/1.00 1.00 1.00 0.02   0\n",
      " 12  ...................   0.01  0.01 1.00/0.99/1.00 1.00 1.00 0.02   0\n",
      " 13  ...................   0.00  0.01 1.00/1.00/1.00 1.00 1.00 0.02   0\n",
      "[mcl] jury pruning marks: <71,95,99>, out of 100\n",
      "[mcl] jury pruning synopsis: <80.5 or favourable> (cf -scheme, -do log)\n",
      "[mcl] output is in ../summer-2022/ppi_out/inflation_tests/G24_I3.0_2\n",
      "[mcl] 4473 clusters found\n",
      "[mcl] output is in ../summer-2022/ppi_out/inflation_tests/G24_I3.0_2\n",
      "\n",
      "Please cite:\n",
      "    Stijn van Dongen, Graph Clustering by Flow Simulation.  PhD thesis,\n",
      "    University of Utrecht, May 2000.\n",
      "       (  http://www.library.uu.nl/digiarchief/dip/diss/1895620/full.pdf\n",
      "       or  http://micans.org/mcl/lit/svdthesis.pdf.gz)\n",
      "OR\n",
      "    Stijn van Dongen, A cluster algorithm for graphs. Technical\n",
      "    Report INS-R0010, National Research Institute for Mathematics\n",
      "    and Computer Science in the Netherlands, Amsterdam, May 2000.\n",
      "       (  http://www.cwi.nl/ftp/CWIreports/INS/INS-R0010.ps.Z\n",
      "       or  http://micans.org/mcl/lit/INS-R0010.ps.Z)\n",
      "\n"
     ]
    },
    {
     "name": "stdout",
     "output_type": "stream",
     "text": [
      "Running mcl for G25\n"
     ]
    },
    {
     "name": "stderr",
     "output_type": "stream",
     "text": [
      "................[mcl] new tab created\n",
      "[mcl] pid 2629\n",
      " ite -------------------  chaos  time hom(avg,lo,hi) m-ie m-ex i-ex fmv\n",
      "  1  ................... 220.32  3.65 1.05/0.00/7.57 69.37 28.16 28.16  68\n",
      "  2  ................... 165.16 40.88 0.69/0.14/1.89 13.48 0.17 4.84  99\n",
      "  3  ...................  39.50  2.72 0.81/0.06/1.64 21.54 0.07 0.33  96\n",
      "  4  ...................  13.32  0.07 0.89/0.21/1.70 2.47 0.26 0.09   3\n",
      "  5  ...................   2.84  0.01 0.95/0.41/1.75 1.15 0.52 0.05   0\n",
      "  6  ...................   1.05  0.01 0.98/0.50/1.31 1.01 0.70 0.03   0\n",
      "  7  ...................   0.66  0.01 0.99/0.56/1.15 1.00 0.84 0.03   0\n",
      "  8  ...................   0.37  0.01 1.00/0.56/1.16 1.00 0.93 0.03   0\n",
      "  9  ...................   0.31  0.01 1.00/0.76/1.19 1.00 0.98 0.02   0\n",
      " 10  ...................   0.25  0.01 1.00/0.69/1.00 1.00 0.99 0.02   0\n",
      " 11  ...................   0.24  0.01 1.00/0.76/1.00 1.00 1.00 0.02   0\n",
      " 12  ...................   0.03  0.01 1.00/0.97/1.00 1.00 1.00 0.02   0\n",
      " 13  ...................   0.00  0.01 1.00/1.00/1.00 1.00 1.00 0.02   0\n",
      "[mcl] jury pruning marks: <66,95,99>, out of 100\n",
      "[mcl] jury pruning synopsis: <77.4 or good> (cf -scheme, -do log)\n",
      "[mcl] output is in ../summer-2022/ppi_out/inflation_tests/G25_I3.0_2\n",
      "[mcl] 7736 clusters found\n",
      "[mcl] output is in ../summer-2022/ppi_out/inflation_tests/G25_I3.0_2\n",
      "\n",
      "Please cite:\n",
      "    Stijn van Dongen, Graph Clustering by Flow Simulation.  PhD thesis,\n",
      "    University of Utrecht, May 2000.\n",
      "       (  http://www.library.uu.nl/digiarchief/dip/diss/1895620/full.pdf\n",
      "       or  http://micans.org/mcl/lit/svdthesis.pdf.gz)\n",
      "OR\n",
      "    Stijn van Dongen, A cluster algorithm for graphs. Technical\n",
      "    Report INS-R0010, National Research Institute for Mathematics\n",
      "    and Computer Science in the Netherlands, Amsterdam, May 2000.\n",
      "       (  http://www.cwi.nl/ftp/CWIreports/INS/INS-R0010.ps.Z\n",
      "       or  http://micans.org/mcl/lit/INS-R0010.ps.Z)\n",
      "\n",
      "..."
     ]
    },
    {
     "name": "stdout",
     "output_type": "stream",
     "text": [
      "Running mcl for G26\n"
     ]
    },
    {
     "name": "stderr",
     "output_type": "stream",
     "text": [
      ".......[mcl] new tab created\n",
      "[mcl] pid 2632\n",
      " ite -------------------  chaos  time hom(avg,lo,hi) m-ie m-ex i-ex fmv\n",
      "  1  ................... 125.75  1.84 1.27/0.00/8.35 50.85 23.31 23.31  77\n",
      "  2  ................... 137.47 20.56 0.60/0.08/2.31 9.47 0.20 4.74  99\n",
      "  3  ...................  38.44  1.36 0.66/0.06/7.04 13.76 0.10 0.48  99\n",
      "  4  ...................  11.13  0.06 0.86/0.12/2.52 2.52 0.22 0.11   9\n",
      "  5  ...................   2.12  0.01 0.95/0.37/1.46 1.19 0.41 0.04   0\n",
      "  6  ...................   0.71  0.01 0.98/0.49/1.20 1.01 0.67 0.03   0\n",
      "  7  ...................   0.56  0.00 0.99/0.56/1.42 1.00 0.85 0.03   0\n",
      "  8  ...................   0.33  0.00 1.00/0.56/1.02 1.00 0.95 0.02   0\n",
      "  9  ...................   0.24  0.00 1.00/0.76/1.00 1.00 0.98 0.02   0\n",
      " 10  ...................   0.22  0.00 1.00/0.78/1.00 1.00 0.99 0.02   0\n",
      " 11  ...................   0.23  0.00 1.00/0.78/1.00 1.00 1.00 0.02   0\n",
      " 12  ...................   0.02  0.00 1.00/0.98/1.00 1.00 1.00 0.02   0\n",
      " 13  ...................   0.00  0.00 1.00/1.00/1.00 1.00 1.00 0.02   0\n",
      "[mcl] jury pruning marks: <78,96,99>, out of 100\n",
      "[mcl] jury pruning synopsis: <85.1 or cracking> (cf -scheme, -do log)\n",
      "[mcl] output is in ../summer-2022/ppi_out/inflation_tests/G26_I3.0_2\n",
      "[mcl] 2137 clusters found\n",
      "[mcl] output is in ../summer-2022/ppi_out/inflation_tests/G26_I3.0_2\n",
      "\n",
      "Please cite:\n",
      "    Stijn van Dongen, Graph Clustering by Flow Simulation.  PhD thesis,\n",
      "    University of Utrecht, May 2000.\n",
      "       (  http://www.library.uu.nl/digiarchief/dip/diss/1895620/full.pdf\n",
      "       or  http://micans.org/mcl/lit/svdthesis.pdf.gz)\n",
      "OR\n",
      "    Stijn van Dongen, A cluster algorithm for graphs. Technical\n",
      "    Report INS-R0010, National Research Institute for Mathematics\n",
      "    and Computer Science in the Netherlands, Amsterdam, May 2000.\n",
      "       (  http://www.cwi.nl/ftp/CWIreports/INS/INS-R0010.ps.Z\n",
      "       or  http://micans.org/mcl/lit/INS-R0010.ps.Z)\n",
      "\n",
      "...."
     ]
    },
    {
     "name": "stdout",
     "output_type": "stream",
     "text": [
      "Running mcl for G27\n"
     ]
    },
    {
     "name": "stderr",
     "output_type": "stream",
     "text": [
      "........[mcl] new tab created\n",
      "[mcl] pid 2634\n",
      " ite -------------------  chaos  time hom(avg,lo,hi) m-ie m-ex i-ex fmv\n",
      "  1  ................... 141.84  2.48 1.22/0.00/8.10 59.58 24.98 24.98  83\n",
      "  2  ................... 169.27 29.01 0.61/0.08/1.68 9.28 0.19 4.85  99\n",
      "  3  ...................  38.05  2.27 0.71/0.06/1.35 15.26 0.08 0.41  99\n",
      "  4  ...................  10.30  0.12 0.88/0.19/1.99 2.55 0.22 0.09   7\n",
      "  5  ...................   2.70  0.02 0.96/0.38/1.74 1.14 0.43 0.04   0\n",
      "  6  ...................   0.90  0.01 0.99/0.50/1.28 1.01 0.67 0.03   0\n",
      "  7  ...................   0.57  0.01 1.00/0.56/1.46 1.00 0.87 0.02   0\n",
      "  8  ...................   0.36  0.01 1.00/0.56/1.00 1.00 0.96 0.02   0\n",
      "  9  ...................   0.25  0.01 1.00/0.76/1.00 1.00 0.99 0.02   0\n",
      " 10  ...................   0.16  0.01 1.00/0.84/1.00 1.00 1.00 0.02   0\n",
      " 11  ...................   0.23  0.01 1.00/0.80/1.00 1.00 1.00 0.02   0\n",
      " 12  ...................   0.15  0.01 1.00/0.85/1.00 1.00 1.00 0.02   0\n",
      " 13  ...................   0.00  0.01 1.00/1.00/1.00 1.00 1.00 0.02   0\n",
      " 14  ...................   0.00  0.01 1.00/1.00/1.00 1.00 1.00 0.02   0\n",
      "[mcl] jury pruning marks: <72,95,99>, out of 100\n",
      "[mcl] jury pruning synopsis: <81.1 or cracking> (cf -scheme, -do log)\n",
      "[mcl] output is in ../summer-2022/ppi_out/inflation_tests/G27_I3.0_2\n",
      "[mcl] 3601 clusters found\n",
      "[mcl] output is in ../summer-2022/ppi_out/inflation_tests/G27_I3.0_2\n",
      "\n",
      "Please cite:\n",
      "    Stijn van Dongen, Graph Clustering by Flow Simulation.  PhD thesis,\n",
      "    University of Utrecht, May 2000.\n",
      "       (  http://www.library.uu.nl/digiarchief/dip/diss/1895620/full.pdf\n",
      "       or  http://micans.org/mcl/lit/svdthesis.pdf.gz)\n",
      "OR\n",
      "    Stijn van Dongen, A cluster algorithm for graphs. Technical\n",
      "    Report INS-R0010, National Research Institute for Mathematics\n",
      "    and Computer Science in the Netherlands, Amsterdam, May 2000.\n",
      "       (  http://www.cwi.nl/ftp/CWIreports/INS/INS-R0010.ps.Z\n",
      "       or  http://micans.org/mcl/lit/INS-R0010.ps.Z)\n",
      "\n"
     ]
    },
    {
     "name": "stdout",
     "output_type": "stream",
     "text": [
      "Running mcl for G28\n"
     ]
    },
    {
     "name": "stderr",
     "output_type": "stream",
     "text": [
      "..........[mcl] new tab created\n",
      "[mcl] pid 2649\n",
      " ite -------------------  chaos  time hom(avg,lo,hi) m-ie m-ex i-ex fmv\n",
      "  1  ................... 139.65  2.51 1.29/0.00/8.35 50.74 23.31 23.31  78\n",
      "  2  ................... 137.06 24.55 0.60/0.08/2.31 9.29 0.20 4.75  99\n",
      "  3  ...................  37.72  1.66 0.66/0.06/7.02 13.52 0.10 0.49  99\n",
      "  4  ...................  13.00  0.08 0.86/0.11/2.22 2.51 0.22 0.11  10\n",
      "  5  ...................   1.90  0.01 0.95/0.39/1.42 1.18 0.41 0.04   0\n",
      "  6  ...................   0.89  0.01 0.98/0.55/1.19 1.01 0.67 0.03   0\n",
      "  7  ...................   0.49  0.01 1.00/0.56/1.19 1.00 0.85 0.03   0\n",
      "  8  ...................   0.25  0.00 1.00/0.58/1.00 1.00 0.94 0.02   0\n",
      "  9  ...................   0.25  0.00 1.00/0.63/1.00 1.00 0.98 0.02   0\n",
      " 10  ...................   0.25  0.00 1.00/0.76/1.00 1.00 0.99 0.02   0\n",
      " 11  ...................   0.20  0.00 1.00/0.80/1.00 1.00 1.00 0.02   0\n",
      " 12  ...................   0.25  0.00 1.00/0.77/1.00 1.00 1.00 0.02   0\n",
      " 13  ...................   0.09  0.00 1.00/0.91/1.00 1.00 1.00 0.02   0\n",
      " 14  ...................   0.00  0.00 1.00/1.00/1.00 1.00 1.00 0.02   0\n",
      " 15  ...................   0.00  0.00 1.00/1.00/1.00 1.00 1.00 0.02   0\n",
      "[mcl] jury pruning marks: <78,96,99>, out of 100\n",
      "[mcl] jury pruning synopsis: <85.1 or cracking> (cf -scheme, -do log)\n",
      "[mcl] output is in ../summer-2022/ppi_out/inflation_tests/G28_I3.0_2\n",
      "[mcl] 2053 clusters found\n",
      "[mcl] output is in ../summer-2022/ppi_out/inflation_tests/G28_I3.0_2\n",
      "\n",
      "Please cite:\n",
      "    Stijn van Dongen, Graph Clustering by Flow Simulation.  PhD thesis,\n",
      "    University of Utrecht, May 2000.\n",
      "       (  http://www.library.uu.nl/digiarchief/dip/diss/1895620/full.pdf\n",
      "       or  http://micans.org/mcl/lit/svdthesis.pdf.gz)\n",
      "OR\n",
      "    Stijn van Dongen, A cluster algorithm for graphs. Technical\n",
      "    Report INS-R0010, National Research Institute for Mathematics\n",
      "    and Computer Science in the Netherlands, Amsterdam, May 2000.\n",
      "       (  http://www.cwi.nl/ftp/CWIreports/INS/INS-R0010.ps.Z\n",
      "       or  http://micans.org/mcl/lit/INS-R0010.ps.Z)\n",
      "\n"
     ]
    },
    {
     "name": "stdout",
     "output_type": "stream",
     "text": [
      "Running mcl for G29\n"
     ]
    },
    {
     "name": "stderr",
     "output_type": "stream",
     "text": [
      "........[mcl] new tab created\n",
      "[mcl] pid 2666\n",
      " ite -------------------  chaos  time hom(avg,lo,hi) m-ie m-ex i-ex fmv\n",
      "  1  ...................  80.17  1.28 1.38/0.00/8.54 38.89 19.84 19.84  81\n",
      "  2  ................... 121.18 15.99 0.58/0.09/2.58 7.95 0.24 4.75  99\n",
      "  3  ...................  38.53  1.37 0.60/0.07/7.08 11.73 0.12 0.59  99\n",
      "  4  ...................  17.13  0.09 0.84/0.12/1.63 2.68 0.22 0.13  18\n",
      "  5  ...................   3.64  0.01 0.95/0.31/1.59 1.21 0.36 0.05   1\n",
      "  6  ...................   1.18  0.01 0.98/0.51/1.60 1.02 0.64 0.03   0\n",
      "  7  ...................   0.81  0.01 0.99/0.53/1.17 1.00 0.86 0.03   0\n",
      "  8  ...................   0.56  0.00 1.00/0.58/1.18 1.00 0.94 0.02   0\n",
      "  9  ...................   0.25  0.00 1.00/0.72/1.34 1.00 0.97 0.02   0\n",
      " 10  ...................   0.25  0.00 1.00/0.58/1.37 1.00 0.99 0.02   0\n",
      " 11  ...................   0.20  0.00 1.00/0.64/1.00 1.00 1.00 0.02   0\n",
      " 12  ...................   0.01  0.00 1.00/0.99/1.00 1.00 1.00 0.02   0\n",
      " 13  ...................   0.00  0.00 1.00/1.00/1.00 1.00 1.00 0.02   0\n",
      "[mcl] jury pruning marks: <84,96,99>, out of 100\n",
      "[mcl] jury pruning synopsis: <88.9 or cracking> (cf -scheme, -do log)\n",
      "[mcl] output is in ../summer-2022/ppi_out/inflation_tests/G29_I3.0_2\n",
      "[mcl] 1085 clusters found\n",
      "[mcl] output is in ../summer-2022/ppi_out/inflation_tests/G29_I3.0_2\n",
      "\n",
      "Please cite:\n",
      "    Stijn van Dongen, Graph Clustering by Flow Simulation.  PhD thesis,\n",
      "    University of Utrecht, May 2000.\n",
      "       (  http://www.library.uu.nl/digiarchief/dip/diss/1895620/full.pdf\n",
      "       or  http://micans.org/mcl/lit/svdthesis.pdf.gz)\n",
      "OR\n",
      "    Stijn van Dongen, A cluster algorithm for graphs. Technical\n",
      "    Report INS-R0010, National Research Institute for Mathematics\n",
      "    and Computer Science in the Netherlands, Amsterdam, May 2000.\n",
      "       (  http://www.cwi.nl/ftp/CWIreports/INS/INS-R0010.ps.Z\n",
      "       or  http://micans.org/mcl/lit/INS-R0010.ps.Z)\n",
      "\n"
     ]
    }
   ],
   "source": [
    "# Makes lists that count the number of clusterss & size of the largest cluster for each graphlet. \n",
    "# Used in later blocks to make parameter sweep plots\n",
    "\n",
    "interact = 'ppi'\n",
    "outdir_beginning = '../summer-2022/ppi_out/'\n",
    "\n",
    "ppi_largest_cluster_lengths = []\n",
    "ppi_number_of_clusters = []\n",
    "\n",
    "inflations = [3.0]\n",
    "#[1.2, 1.5, 1.75, 2.0, 2.25, 2.5, 2.75, 3.0, 3.25, 3.5, 4.0, 4.5, 5.0]\n",
    "\n",
    "for graphlet in list(range(30)):\n",
    "    ith_graphlet_lengths = []\n",
    "    ith_cluster_lengths = []\n",
    "    for inflation in inflations:\n",
    "    \n",
    "        \n",
    "        access_file = outdir_beginning + 'G' + str(graphlet) + '/intermed_G' +str(graphlet)+ '.txt'\n",
    "        new_file_name = outdir_beginning + 'inflation_tests/' + 'G' + str(graphlet) + '_I' + str(inflation) + '_2'\n",
    "        \n",
    "      \n",
    "\n",
    "        if os.path.exists(new_file_name) == False:\n",
    "            print(\"Running mcl for G\"+str(graphlet))\n",
    "            os.system(\"mcl \" +access_file+ \" -I \"+str(inflation)+\" --abc -o \" +new_file_name)\n",
    "        \n",
    "\n",
    "        list_of_lists = []\n",
    "        cluster_num = 0\n",
    "        Gi = open(new_file_name, \"r\")\n",
    "        for line in Gi:\n",
    "            cluster_num += 1\n",
    "            stripped_line = line.strip()\n",
    "            line_list = stripped_line.split()\n",
    "            list_of_lists.append(line_list)\n",
    "        Gi.close()\n",
    "\n",
    "        largest_cluster_lenth = len(list_of_lists[0])\n",
    "        ith_graphlet_lengths.append(largest_cluster_lenth)\n",
    "\n",
    "        ith_cluster_lengths.append(cluster_num)\n",
    "    ppi_largest_cluster_lengths.append(ith_graphlet_lengths)\n",
    "    ppi_number_of_clusters.append(ith_cluster_lengths)"
   ]
  },
  {
   "cell_type": "markdown",
   "metadata": {},
   "source": [
    " Largest Cluster Graph"
   ]
  },
  {
   "cell_type": "code",
   "execution_count": 15,
   "metadata": {},
   "outputs": [
    {
     "data": {
      "image/png": "[encoded data removed]",
      "text/plain": [
       "<Figure size 432x288 with 1 Axes>"
      ]
     },
     "metadata": {
      "needs_background": "light"
     },
     "output_type": "display_data"
    }
   ],
   "source": [
    "# Full Plot\n",
    "fig = plt.figure()\n",
    "ax1 = fig.add_subplot(111)\n",
    "\n",
    "inflations = [1.2, 1.5, 2.0, 2.5, 2.75, 3.0, 3.25, 3.5, 3.75, 4.0, 4.25, 4.5, 5.0]\n",
    "colors = ['k','dimgray','lime','rosybrown','maroon','gold',\n",
    "            'chocolate', 'fuchsia','orangered','saddlebrown',\n",
    "            'darkorange','darkkhaki','olive','darkolivegreen',\n",
    "            'chartreuse','palegreen','turquoise','cornflowerblue','blue',\n",
    "            'blueviolet','violet','crimson','deeppink',\n",
    "            'darkslategray','yellow','gray','cyan','brown','olive',\n",
    "            'deepskyblue'\n",
    "            ]\n",
    "#,'pink','lightcoral','darkgray',\n",
    "\n",
    "for graphlet in range(30):\n",
    "    ax1.scatter(inflations, ppi_largest_cluster_lengths[graphlet], s=10, c=colors[graphlet], marker=\".\", label='G'+str(graphlet))\n",
    "\n",
    "\n",
    "#ax1.set_yscale('log')\n",
    "\n",
    "plt.legend(loc='center left', bbox_to_anchor=(1, 0.5));\n",
    "ax1.set_ylabel('# of clusters')\n",
    "ax1.set_xlabel('MCL inflation paramter')\n",
    "ax1.set_title('PPI')\n",
    "plt.show()"
   ]
  },
  {
   "cell_type": "code",
   "execution_count": null,
   "metadata": {},
   "outputs": [],
   "source": [
    "# Full Plot\n",
    "fig = plt.figure()\n",
    "ax1 = fig.add_subplot(111)\n",
    "\n",
    "inflations = [1.2, 1.5, 2.0, 2.5, 2.75, 3.0, 3.25, 3.5, 3.75, 4.0, 4.25, 4.5, 5.0]\n",
    "colors = ['purple','r','blue','c','m','orangered','k','deeppink','lime']\n",
    "for graphlet in range(9):\n",
    "    ax1.scatter(inflations, ppi_number_of_clusters[graphlet], s=10, c=colors[graphlet], marker=\".\", label='G'+str(graphlet))\n",
    "\n",
    "ax1.set_yscale('log')\n",
    "\n",
    "plt.legend(loc='lower right');\n",
    "#ax1.set_ylabel('Log of # of nodes in largest cluster')\n",
    "ax1.set_ylabel('Log of # of clusters')\n",
    "ax1.set_xlabel('MCL inflation paramter')\n",
    "ax1.set_title('PPI')\n",
    "plt.show()"
   ]
  },
  {
   "cell_type": "code",
   "execution_count": null,
   "metadata": {},
   "outputs": [],
   "source": [
    "inflations = [1.2, 1.5, 2.0, 2.5, 2.75, 3.0, 3.25, 3.5, 3.75, 4.0, 4.25, 4.5, 5.0]\n",
    "colors = ['purple','r','blue','c','m','orangered','k','deeppink','lime']\n",
    "#,'pink','lightcoral','darkgray',\n",
    "\n",
    "fig, (ax1,ax2) = plt.subplots(2, 1,figsize=(12, 12))\n",
    "for graphlet in range(9):\n",
    "    ax1.scatter(inflations, ppi_largest_cluster_lengths[graphlet], s=10, c=colors[graphlet], marker=\"o\", label='G'+str(graphlet))\n",
    "    ax2.scatter(inflations, ppi_number_of_clusters[graphlet], s=10, c=colors[graphlet], marker=\"o\", label='G'+str(graphlet))\n",
    "\n",
    "\n",
    "ax1.set_yscale('log')\n",
    "ax2.set_yscale('log')\n",
    "\n",
    "plt.legend(loc='center left', bbox_to_anchor=(1, 1));\n",
    "ax1.set_ylabel('# of nodes in largest cluster')\n",
    "ax1.set_xlabel('Huri MCL inflation paramter')\n",
    "ax1.set_title('4 Node Graphlet Clustering in PPI')\n",
    "ax2.set_ylabel('Log of # of clusters')\n",
    "ax2.set_xlabel('MCL inflation paramter')\n",
    "plt.show()"
   ]
  },
  {
   "cell_type": "markdown",
   "metadata": {},
   "source": [
    "Number of Clusters Graph"
   ]
  },
  {
   "cell_type": "code",
   "execution_count": null,
   "metadata": {},
   "outputs": [],
   "source": [
    "# Full Plot\n",
    "fig = plt.figure()\n",
    "ax1 = fig.add_subplot(111)\n",
    "\n",
    "inflations = [1.2, 1.5, 2.0, 2.5, 2.75, 3.0, 3.25, 3.5, 3.75, 4.0, 4.25, 4.5, 5.0]\n",
    "colors = ['b','r','g','c','brown','y','k','m','slategray']\n",
    "for graphlet in range(9):\n",
    "    ax1.scatter(inflations, ppi_number_of_clusters[graphlet], s=10, c=colors[graphlet], marker=\".\", label='G'+str(graphlet))\n",
    "\n",
    "ax1.set_yscale('log')\n",
    "\n",
    "plt.legend(loc='lower right');\n",
    "ax1.set_ylabel('Log of # of clusters')\n",
    "ax1.set_xlabel('MCL inflation paramter')\n",
    "ax1.set_title('PPI')\n",
    "plt.show()"
   ]
  },
  {
   "cell_type": "code",
   "execution_count": null,
   "metadata": {},
   "outputs": [],
   "source": [
    "str_inflations = ['1.2', '1.5', '2.0', '2.5', '2.75', '3.0', '3.25', '3.5', '3.75', '4.0', '4.25', '4.5', '5.0']\n",
    "str_graphlets = ['G0','G1','G2','G3','G4','G5','G6','G7','G8']\n",
    "make_df(ppi_largest_cluster_lengths,str_inflations,str_graphlets,'Largest Cluster Lengths')"
   ]
  },
  {
   "cell_type": "markdown",
   "metadata": {},
   "source": [
    "### HuRI"
   ]
  },
  {
   "cell_type": "code",
   "execution_count": 22,
   "metadata": {},
   "outputs": [],
   "source": [
    "interact = 'huri'\n",
    "outdir_beginning = '../summer-2022/huri_out/'\n",
    "\n",
    "huri_largest_cluster_lengths = []\n",
    "huri_number_of_clusters = []\n",
    "inflations = [1.2, 1.5, 2.0, 2.5, 2.75, 3.0, 3.25, 3.5, 3.75, 4.0, 4.25, 4.5, 5.0]\n",
    "\n",
    "for graphlet in list(range(30)):\n",
    "    ith_graphlet_lengths = []\n",
    "    ith_cluster_lengths = []\n",
    "    for inflation in inflations:\n",
    "        #print(\"Graphlet: \" +str(graphlet)+ \"   Inflation: \"+str(inflation))\n",
    "        \n",
    "        access_file = outdir_beginning + 'G' + str(graphlet) + '/intermed_G' +str(graphlet)+ '.txt'\n",
    "        new_file_name = outdir_beginning + 'inflation_tests/' + 'G' + str(graphlet) + '_I' + str(inflation)\n",
    "        \n",
    "        \n",
    "        if os.path.exists(new_file_name) == False:\n",
    "            #print(\"Running mcl for inflation \"+str(inflation))\n",
    "            os.system(\"mcl \" +access_file+ \" -I \"+str(inflation)+\" --abc -o \" +new_file_name)\n",
    "        \n",
    "\n",
    "        list_of_lists = []\n",
    "        cluster_num = 0\n",
    "        Gi = open(new_file_name, \"r\")\n",
    "        for line in Gi:\n",
    "            cluster_num += 1\n",
    "            stripped_line = line.strip()\n",
    "            line_list = stripped_line.split()\n",
    "            list_of_lists.append(line_list)\n",
    "        Gi.close()\n",
    "\n",
    "        largest_cluster_lenth = len(list_of_lists[0])\n",
    "        ith_graphlet_lengths.append(largest_cluster_lenth)\n",
    "\n",
    "        ith_cluster_lengths.append(cluster_num)\n",
    "    huri_largest_cluster_lengths.append(ith_graphlet_lengths)\n",
    "    huri_number_of_clusters.append(ith_cluster_lengths)\n",
    "        "
   ]
  },
  {
   "cell_type": "code",
   "execution_count": null,
   "metadata": {},
   "outputs": [],
   "source": [
    "str_inflations = list_of_strings(inflations)\n",
    "str_graphlets = list_of_strings(list(range(30)),prefix='G')\n",
    "make_df(huri_largest_cluster_lengths,str_inflations,str_graphlets,'Largest Cluster Lengths')"
   ]
  },
  {
   "cell_type": "markdown",
   "metadata": {},
   "source": [
    "Largest Cluster Graph"
   ]
  },
  {
   "cell_type": "code",
   "execution_count": 23,
   "metadata": {},
   "outputs": [
    {
     "data": {
      "image/png": "[encoded data removed]",
      "text/plain": [
       "<Figure size 432x288 with 1 Axes>"
      ]
     },
     "metadata": {
      "needs_background": "light"
     },
     "output_type": "display_data"
    }
   ],
   "source": [
    "# Full Plot\n",
    "fig = plt.figure()\n",
    "ax1 = fig.add_subplot(111)\n",
    "\n",
    "inflations = [1.2, 1.5, 2.0, 2.5, 2.75, 3.0, 3.25, 3.5, 3.75, 4.0, 4.25, 4.5, 5.0]\n",
    "colors = ['k','dimgray','lime','rosybrown','maroon','gold',\n",
    "            'chocolate', 'fuchsia','orangered','saddlebrown',\n",
    "            'darkorange','darkkhaki','olive','darkolivegreen',\n",
    "            'chartreuse','palegreen','turquoise','cornflowerblue','blue',\n",
    "            'blueviolet','violet','crimson','deeppink',\n",
    "            'darkslategray','yellow','gray','cyan','brown','olive',\n",
    "            'deepskyblue'\n",
    "            ]\n",
    "#,'pink','lightcoral','darkgray',\n",
    "\n",
    "for graphlet in range(30):\n",
    "    ax1.scatter(inflations, huri_largest_cluster_lengths[graphlet], s=10, c=colors[graphlet], marker=\".\", label='G'+str(graphlet))\n",
    "\n",
    "\n",
    "ax1.set_yscale('log')\n",
    "\n",
    "plt.legend(loc='center left', bbox_to_anchor=(1, 0.5));\n",
    "ax1.set_ylabel('# of nodes in largest cluster')\n",
    "ax1.set_xlabel('Huri MCL inflation paramter')\n",
    "ax1.set_title('Inflation vs Size of Largest Cluster')\n",
    "plt.show()"
   ]
  },
  {
   "cell_type": "code",
   "execution_count": null,
   "metadata": {},
   "outputs": [],
   "source": [
    "plt.imshow(np.log(huri_largest_cluster_lengths))"
   ]
  },
  {
   "cell_type": "code",
   "execution_count": null,
   "metadata": {},
   "outputs": [],
   "source": [
    "# Full Plot\n",
    "\n",
    "\n",
    "inflations = [1.2, 1.5, 2.0, 2.5, 2.75, 3.0, 3.25, 3.5, 3.75, 4.0, 4.25, 4.5, 5.0]\n",
    "colors = ['k','dimgray','lime','rosybrown','maroon','gold',\n",
    "            'chocolate', 'fuchsia','orangered','saddlebrown',\n",
    "            'darkorange','darkkhaki','olive','darkolivegreen',\n",
    "            'chartreuse','palegreen','turquoise','cornflowerblue','blue',\n",
    "            'blueviolet','violet','crimson','deeppink',\n",
    "            'darkslategray','yellow','gray','cyan','brown','olive',\n",
    "            'deepskyblue'\n",
    "            ]\n",
    "#,'pink','lightcoral','darkgray',\n",
    "\n",
    "fig, (ax1,ax2) = plt.subplots(2, 1,figsize=(12, 12))\n",
    "for graphlet in range(30):\n",
    "    ax1.scatter(inflations, huri_largest_cluster_lengths[graphlet], s=10, c=colors[graphlet], marker=\".\", label='G'+str(graphlet))\n",
    "    ax2.scatter(inflations, huri_number_of_clusters[graphlet], s=10, c=colors[graphlet], marker=\".\", label='G'+str(graphlet))\n",
    "\n",
    "\n",
    "ax1.set_yscale('log')\n",
    "ax2.set_yscale('log')\n",
    "\n",
    "plt.legend(loc='center left', bbox_to_anchor=(1, 1));\n",
    "ax1.set_ylabel('# of nodes in largest cluster')\n",
    "ax1.set_xlabel('Huri MCL inflation paramter')\n",
    "ax1.set_title('5 Node Graphlet Clustering in HuRI')\n",
    "ax2.set_ylabel('Log of # of clusters')\n",
    "ax2.set_xlabel('MCL inflation paramter')\n",
    "plt.show()"
   ]
  },
  {
   "cell_type": "code",
   "execution_count": null,
   "metadata": {},
   "outputs": [],
   "source": [
    "inflations = [1.2, 1.5, 2.0, 2.5, 2.75, 3.0, 3.25, 3.5, 3.75, 4.0, 4.25, 4.5, 5.0]\n",
    "colors = ['purple','r','blue','c','m','orangered','k','deeppink','lime']\n",
    "#,'pink','lightcoral','darkgray',\n",
    "\n",
    "fig, (ax1,ax2) = plt.subplots(2, 1,figsize=(12, 12))\n",
    "for graphlet in range(9):\n",
    "    ax1.scatter(inflations, huri_largest_cluster_lengths[graphlet], s=10, c=colors[graphlet], marker=\"o\", label='G'+str(graphlet))\n",
    "    ax2.scatter(inflations, huri_number_of_clusters[graphlet], s=10, c=colors[graphlet], marker=\"o\", label='G'+str(graphlet))\n",
    "\n",
    "\n",
    "ax1.set_yscale('log')\n",
    "ax2.set_yscale('log')\n",
    "\n",
    "plt.legend(loc='center left', bbox_to_anchor=(1, 1));\n",
    "ax1.set_ylabel('# of nodes in largest cluster')\n",
    "ax1.set_xlabel('MCL inflation paramter')\n",
    "ax1.set_title('4 Node Graphlet Clustering in HuRI')\n",
    "ax2.set_ylabel('Log of # of clusters')\n",
    "ax2.set_xlabel('MCL inflation paramter')\n",
    "plt.show()"
   ]
  },
  {
   "cell_type": "markdown",
   "metadata": {},
   "source": [
    "Number of Clusters Graph"
   ]
  },
  {
   "cell_type": "code",
   "execution_count": null,
   "metadata": {},
   "outputs": [],
   "source": [
    "# Full Plot\n",
    "fig = plt.figure()\n",
    "ax1 = fig.add_subplot(111)\n",
    "\n",
    "inflations = [1.2, 1.5, 2.0, 2.5, 2.75, 3.0, 3.25, 3.5, 3.75, 4.0, 4.25, 4.5, 5.0]\n",
    "colors = ['k','dimgray','lime','rosybrown','maroon','gold',\n",
    "            'chocolate', 'fuchsia','orangered','saddlebrown',\n",
    "            'darkorange','darkkhaki','olive','darkolivegreen',\n",
    "            'chartreuse','palegreen','turquoise','cornflowerblue','blue',\n",
    "            'blueviolet','violet','crimson','deeppink',\n",
    "            'darkslategray','yellow','gray','cyan','brown','olive',\n",
    "            'deepskyblue'\n",
    "            ]\n",
    "for graphlet in range(30):\n",
    "    ax1.scatter(inflations, huri_number_of_clusters[graphlet], s=10, c=colors[graphlet], marker=\".\", label='G'+str(graphlet))\n",
    "\n",
    "ax1.set_yscale('log')\n",
    "\n",
    "plt.legend(loc='center left', bbox_to_anchor=(1, 0.5));\n",
    "ax1.set_ylabel('Log of # of clusters')\n",
    "ax1.set_xlabel('MCL inflation paramter')\n",
    "ax1.set_title('Huri Inflation vs Number of Clusters')\n",
    "plt.show()"
   ]
  },
  {
   "cell_type": "code",
   "execution_count": null,
   "metadata": {},
   "outputs": [],
   "source": [
    "make_df(huri_number_of_clusters,str_inflations,list_of_strings(list(range(30))),'Huri Number of Clusters')"
   ]
  },
  {
   "cell_type": "markdown",
   "metadata": {},
   "source": [
    "### All Pathway Commons"
   ]
  },
  {
   "cell_type": "code",
   "execution_count": null,
   "metadata": {},
   "outputs": [],
   "source": [
    "interact = 'apc'\n",
    "outdir_beginning = '../summer-2022/apc_out/'\n",
    "\n",
    "apc_largest_cluster_lengths = []\n",
    "apc_number_of_clusters = []\n",
    "inflations = [1.2, 1.5, 2.0, 2.5, 2.75, 3.0, 3.25, 3.5, 3.75, 4.0, 4.25, 4.5, 5.0]\n",
    "\n",
    "for graphlet in [0,1,2,3,4,5,6,7,8]:\n",
    "    ith_graphlet_lengths = []\n",
    "    ith_cluster_lengths = []\n",
    "    for inflation in inflations:\n",
    "        #print(\"Graphlet: \" +str(graphlet)+ \"   Inflation: \"+str(inflation))\n",
    "        \n",
    "        access_file = outdir_beginning + 'G' + str(graphlet) + '/intermed_G' +str(graphlet)+ '.txt'\n",
    "        new_file_name = outdir_beginning + 'inflation_tests/' + 'G' + str(graphlet) + '_I' + str(inflation)\n",
    "        \n",
    "        \n",
    "        if os.path.exists(new_file_name) == False:\n",
    "            print(\"Running mcl for inflation \"+str(inflation))\n",
    "            os.system(\"mcl \" +access_file+ \" -I \"+str(inflation)+\" --abc -o \" +new_file_name)\n",
    "        \n",
    "\n",
    "        list_of_lists = []\n",
    "        cluster_num = 0\n",
    "        Gi = open(new_file_name, \"r\")\n",
    "        for line in Gi:\n",
    "            cluster_num += 1\n",
    "            stripped_line = line.strip()\n",
    "            line_list = stripped_line.split()\n",
    "            list_of_lists.append(line_list)\n",
    "        Gi.close()\n",
    "\n",
    "        largest_cluster_lenth = len(list_of_lists[0])\n",
    "        ith_graphlet_lengths.append(largest_cluster_lenth)\n",
    "\n",
    "        ith_cluster_lengths.append(cluster_num)\n",
    "    apc_largest_cluster_lengths.append(ith_graphlet_lengths)\n",
    "    apc_number_of_clusters.append(ith_cluster_lengths)"
   ]
  },
  {
   "cell_type": "code",
   "execution_count": null,
   "metadata": {},
   "outputs": [],
   "source": [
    "apc_largest_cluster_lengths"
   ]
  },
  {
   "cell_type": "code",
   "execution_count": null,
   "metadata": {},
   "outputs": [],
   "source": [
    "apc_number_of_clusters"
   ]
  },
  {
   "cell_type": "markdown",
   "metadata": {},
   "source": [
    "Largest Cluster Graph"
   ]
  },
  {
   "cell_type": "code",
   "execution_count": null,
   "metadata": {},
   "outputs": [],
   "source": [
    "# Full Plot\n",
    "fig = plt.figure()\n",
    "ax1 = fig.add_subplot(111)\n",
    "\n",
    "inflations = [1.2, 1.5, 2.0, 2.5, 2.75, 3.0, 3.25, 3.5, 3.75, 4.0, 4.25, 4.5, 5.0]\n",
    "colors = ['purple','r','blue','c','m','orangered','k','deeppink','lime']\n",
    "for graphlet in range(9):\n",
    "    ax1.scatter(inflations, apc_largest_cluster_lengths[graphlet], s=10, c=colors[graphlet], marker=\".\", label='G'+str(graphlet))\n",
    "\n",
    "ax1.set_yscale('log')\n",
    "\n",
    "plt.legend(loc='upper right');\n",
    "ax1.set_ylabel('Log of # of nodes in largest cluster')\n",
    "ax1.set_xlabel('MCL inflation paramter')\n",
    "ax1.set_title('All Pathway Commons')\n",
    "plt.show()"
   ]
  },
  {
   "cell_type": "markdown",
   "metadata": {},
   "source": [
    "Number of Clusters Graph"
   ]
  },
  {
   "cell_type": "code",
   "execution_count": null,
   "metadata": {},
   "outputs": [],
   "source": [
    "# Full Plot\n",
    "fig = plt.figure()\n",
    "ax1 = fig.add_subplot(111)\n",
    "\n",
    "inflations = [1.2, 1.5, 2.0, 2.5, 2.75, 3.0, 3.25, 3.5, 3.75, 4.0, 4.25, 4.5, 5.0]\n",
    "colors = ['purple','r','blue','c','m','orangered','k','deeppink','lime']\n",
    "for graphlet in range(9):\n",
    "    ax1.scatter(inflations, apc_number_of_clusters[graphlet], s=10, c=colors[graphlet], marker=\".\", label='G'+str(graphlet))\n",
    "\n",
    "ax1.set_yscale('log')\n",
    "\n",
    "plt.legend(loc='lower right');\n",
    "ax1.set_ylabel('Log of # of clusters')\n",
    "ax1.set_xlabel('MCL inflation paramter')\n",
    "ax1.set_title('All Pathway Commons')\n",
    "plt.show()"
   ]
  },
  {
   "cell_type": "markdown",
   "metadata": {},
   "source": [
    "### Six Graphs"
   ]
  },
  {
   "cell_type": "code",
   "execution_count": null,
   "metadata": {},
   "outputs": [],
   "source": [
    "inflations = [1.2, 1.5, 2.0, 2.5, 2.75, 3.0, 3.25, 3.5, 3.75, 4.0, 4.25, 4.5, 5.0]\n",
    "colors = ['purple','r','blue','c','m','orangered','k','deeppink','lime']\n",
    "#,'pink','lightcoral','darkgray',\n",
    "\n",
    "fig, (apc1, ppi1, huri1, apc2, ppi2, huri2) = plt.subplots(2, 3,figsize=(12, 12))\n",
    "\n",
    "for graphlet in range(9):\n",
    "    apc1.scatter(inflations, apc_largest_cluster_lengths[graphlet], s=10, c=colors[graphlet], marker=\"o\", label='G'+str(graphlet))\n",
    "    apc2.scatter(inflations, apc_number_of_clusters[graphlet], s=10, c=colors[graphlet], marker=\"o\", label='G'+str(graphlet))\n",
    "    ppi1.scatter(inflations, ppi_largest_cluster_lengths[graphlet], s=10, c=colors[graphlet], marker=\"o\", label='G'+str(graphlet))\n",
    "    ppi2.scatter(inflations, ppi_number_of_clusters[graphlet], s=10, c=colors[graphlet], marker=\"o\", label='G'+str(graphlet))\n",
    "    huri1.scatter(inflations, huri_largest_cluster_lengths[graphlet], s=10, c=colors[graphlet], marker=\"o\", label='G'+str(graphlet))\n",
    "    huri2.scatter(inflations, huri_number_of_clusters[graphlet], s=10, c=colors[graphlet], marker=\"o\", label='G'+str(graphlet))\n",
    "\n",
    "apc1.set_yscale('log')\n",
    "apc2.set_yscale('log')\n",
    "ppi1.set_yscale('log')\n",
    "ppi2.set_yscale('log')\n",
    "huri1.set_yscale('log')\n",
    "huri2.set_yscale('log')\n",
    "\n",
    "\n",
    "plt.legend(loc='center left', bbox_to_anchor=(1, 1));\n",
    "apc1.set_ylabel('# of nodes in largest cluster')\n",
    "apc1.set_xlabel('Huri MCL inflation paramter')\n",
    "\n",
    "ppi1.set_ylabel('# of nodes in largest cluster')\n",
    "ppi1.set_xlabel('Huri MCL inflation paramter')\n",
    "\n",
    "huri1.set_ylabel('# of nodes in largest cluster')\n",
    "huri1.set_xlabel('Huri MCL inflation paramter')\n",
    "\n",
    "\n",
    "apc2.set_ylabel('Log of # of clusters')\n",
    "apc2.set_xlabel('MCL inflation paramter')\n",
    "\n",
    "ppi2.set_ylabel('Log of # of clusters')\n",
    "ppi2.set_xlabel('MCL inflation paramter')\n",
    "\n",
    "huri2.set_ylabel('Log of # of clusters')\n",
    "huri2.set_xlabel('MCL inflation paramter')\n",
    "plt.show()"
   ]
  },
  {
   "cell_type": "markdown",
   "metadata": {},
   "source": [
    "## ARI"
   ]
  },
  {
   "cell_type": "markdown",
   "metadata": {},
   "source": [
    "### HuRI"
   ]
  },
  {
   "cell_type": "code",
   "execution_count": 4,
   "metadata": {},
   "outputs": [],
   "source": [
    "G_initial = '../summer-2022/data/interactomes/PP-Pathways_ppi.csv'\n",
    "Gi = pd.read_csv(G_initial, delimiter=',')\n",
    "list_of_rows = [list(row) for row in Gi.values]\n",
    "list_of_rows.insert(0, Gi.columns.to_list())\n",
    "df_tuples = [tuple(x) for x in list_of_rows]\n",
    "G = nx.from_edgelist(df_tuples)\n",
    "# list_of_lists = []\n",
    "# Gi = open(G_initial, \"r\")\n",
    "# for line in Gi:\n",
    "# \tstripped_line = line.strip()\n",
    "# \tline_list = stripped_line.split()\n",
    "# \tlist_of_lists.append(line_list)\n",
    "# Gi.close()\n",
    "# G = nx.from_edgelist(list_of_lists)\n",
    "G = nx.convert_node_labels_to_integers(G, first_label=0, ordering='default', label_attribute='ID')\n",
    "G.remove_edges_from(nx.selfloop_edges(G))\n",
    "ppi_nodes = list(range(nx.number_of_nodes(G)))"
   ]
  },
  {
   "cell_type": "code",
   "execution_count": 144,
   "metadata": {},
   "outputs": [],
   "source": [
    "ppi_all_clusters = []\n",
    "ppi_cluster_sizes = []\n",
    "for i in range(30):\n",
    "\n",
    "    G_initial = '../summer-2022/ppi_out/inflation_tests/G'+str(i)+'_I3.25'\n",
    "    ith_clusters = []\n",
    "    node_list = []\n",
    "    ith_cluster_sizes = []\n",
    "\n",
    "    Gi = open(G_initial, \"r\")\n",
    "    for line in Gi:\n",
    "        stripped_line = line.strip()\n",
    "        line_list = stripped_line.split()\n",
    "        ith_clusters.append(line_list)\n",
    "        ith_cluster_sizes.append(len(line_list))\n",
    "        for j in line_list:\n",
    "            node_list.append(int(j))\n",
    "    Gi.close()\n",
    "\n",
    "    stragglers = list(set(ppi_nodes) - set(node_list))\n",
    "    \n",
    "    for k in stragglers:\n",
    "       ith_clusters.append([k])\n",
    "\n",
    "    #add all the nodes taken off by the graphlet step\n",
    "    ppi_all_clusters.append(ith_clusters)\n",
    "    ppi_cluster_sizes.append(ith_cluster_sizes)"
   ]
  },
  {
   "cell_type": "code",
   "execution_count": 152,
   "metadata": {},
   "outputs": [],
   "source": [
    "node_counts = []\n",
    "for i in range(30):\n",
    "    ith_count = 0\n",
    "    for j in range(len(ppi_all_clusters[i])):\n",
    "        for k in range(len(ppi_all_clusters[i][j])):\n",
    "            ith_count += 1\n",
    "    node_counts.append(ith_count)"
   ]
  },
  {
   "cell_type": "code",
   "execution_count": 174,
   "metadata": {},
   "outputs": [
    {
     "data": {
      "text/plain": [
       "21559"
      ]
     },
     "execution_count": 174,
     "metadata": {},
     "output_type": "execute_result"
    }
   ],
   "source": [
    "node_counts[16]"
   ]
  },
  {
   "cell_type": "markdown",
   "metadata": {},
   "source": [
    "### Jaccard Index"
   ]
  },
  {
   "cell_type": "code",
   "execution_count": 145,
   "metadata": {},
   "outputs": [],
   "source": [
    "g_zero,g_eight = ppi_all_clusters[16],ppi_all_clusters[15]"
   ]
  },
  {
   "cell_type": "code",
   "execution_count": 178,
   "metadata": {},
   "outputs": [],
   "source": [
    "def remove_uncommon_nodes(u,v):\n",
    "\n",
    "    u_node_list = []\n",
    "    v_node_list = []\n",
    "\n",
    "    for cluster in u:\n",
    "        for node in cluster:\n",
    "            u_node_list.append(node)\n",
    "    for cluster in v:\n",
    "        for node in cluster:\n",
    "            v_node_list.append(node)\n",
    "\n",
    "    common_nodes = list(set(v_node_list) - set(u_node_list))\n",
    "\n",
    "    return(common_nodes,u_node_list,v_node_list)\n",
    "\n",
    "    # new_u = []\n",
    "    # new_v = []\n",
    "\n",
    "    # len_u = 0\n",
    "    # len_v = 0\n",
    "\n",
    "    # for i in range(len(u)):\n",
    "    #     new_u.append([])\n",
    "    #     for node in u[i]:\n",
    "    #         if node in common_nodes:\n",
    "    #             new_u[i].append(node)\n",
    "    #             len_u += 1\n",
    "    # for i in range(len(v)):\n",
    "    #     new_v.append([])\n",
    "    #     for node in v[i]:\n",
    "    #         if node in common_nodes:\n",
    "    #             new_v[i].append(node)\n",
    "    #             len_v += 1"
   ]
  },
  {
   "cell_type": "code",
   "execution_count": 179,
   "metadata": {},
   "outputs": [],
   "source": [
    "common_nodes,u_node_list,v_node_list=remove_uncommon_nodes(g_zero,g_eight)"
   ]
  },
  {
   "cell_type": "code",
   "execution_count": 186,
   "metadata": {},
   "outputs": [
    {
     "ename": "TypeError",
     "evalue": "'<' not supported between instances of 'str' and 'int'",
     "output_type": "error",
     "traceback": [
      "\u001b[0;31m---------------------------------------------------------------------------\u001b[0m",
      "\u001b[0;31mTypeError\u001b[0m                                 Traceback (most recent call last)",
      "\u001b[1;32m/Users/hannah/Desktop/summer-2022/practice.ipynb Cell 45\u001b[0m in \u001b[0;36m<cell line: 1>\u001b[0;34m()\u001b[0m\n\u001b[0;32m----> <a href='vscode-notebook-cell:/Users/hannah/Desktop/summer-2022/practice.ipynb#ch0000088?line=0'>1</a>\u001b[0m common_nodes\u001b[39m.\u001b[39;49msort()\n",
      "\u001b[0;31mTypeError\u001b[0m: '<' not supported between instances of 'str' and 'int'"
     ]
    }
   ],
   "source": [
    "common_nodes.sort()"
   ]
  },
  {
   "cell_type": "code",
   "execution_count": 75,
   "metadata": {},
   "outputs": [],
   "source": [
    "def jacc(u,v):\n",
    "    set_u = set(u)\n",
    "    set_v = set(v)\n",
    "    \n",
    "    total = set_u | set_v\n",
    "    intersect = set_u.intersection(set_v)\n",
    "    #return len(intersect)\n",
    "    return len(intersect)/len(total)\n",
    "    "
   ]
  },
  {
   "cell_type": "code",
   "execution_count": 112,
   "metadata": {},
   "outputs": [],
   "source": [
    "len_zero,len_eight = len(g_zero),len(g_eight)\n",
    "P = np.zeros(len_zero*len_eight).reshape(len_zero,len_eight)\n",
    "\n",
    "for i in range(len_zero):\n",
    "    for j in range(len_eight):\n",
    "        P[i][j] = round(jacc(g_zero[i],g_eight[j]),3)"
   ]
  },
  {
   "cell_type": "code",
   "execution_count": null,
   "metadata": {},
   "outputs": [],
   "source": [
    "16,17 - 0.85, 0.51\n",
    "16,15 - 0.85, 0.41\n",
    "0,29 - 0.16057922035629613, 0.02709\n",
    "0,1 - 1.0"
   ]
  },
  {
   "cell_type": "code",
   "execution_count": 110,
   "metadata": {},
   "outputs": [],
   "source": [
    "pd.DataFrame(P).to_csv('ppi_jaccard_16_15.csv')"
   ]
  },
  {
   "cell_type": "code",
   "execution_count": 125,
   "metadata": {},
   "outputs": [],
   "source": [
    "ari_step1 = []\n",
    "ari_step2 = []\n",
    "for i in range(30):\n",
    "\n",
    "    ari_step1.append([])\n",
    "    ari_step2.append([])\n",
    "\n",
    "    for j in range(len(ppi_all_clusters[i])-1):\n",
    "        for k in ppi_all_clusters[i][j]:\n",
    "            ari_step1[i].append([int(k),j])\n",
    "\n",
    "    ari_step1[i].sort()\n",
    "\n",
    "    for j in ari_step1[i]:\n",
    "        ari_step2[i].append(str(j[1]))"
   ]
  },
  {
   "cell_type": "code",
   "execution_count": 134,
   "metadata": {},
   "outputs": [
    {
     "data": {
      "text/plain": [
       "0.177"
      ]
     },
     "execution_count": 134,
     "metadata": {},
     "output_type": "execute_result"
    }
   ],
   "source": [
    "round(adjusted_rand_score(ari_step2[16],ari_step2[17]),3)"
   ]
  },
  {
   "cell_type": "code",
   "execution_count": 52,
   "metadata": {},
   "outputs": [],
   "source": [
    "from sklearn.metrics import f1_score"
   ]
  },
  {
   "cell_type": "code",
   "execution_count": 54,
   "metadata": {},
   "outputs": [],
   "source": [
    "P = np.zeros(30*30).reshape(30,30)\n",
    "for i in range(30):\n",
    "    for j in range(30):\n",
    "        P[i][j] = round(adjusted_rand_score(ari_step2[i],ari_step2[j]),3)\n",
    "        #P[i][j] = round(f1_score(ari_step2[i],ari_step2[j],average='micro'),3)"
   ]
  },
  {
   "cell_type": "code",
   "execution_count": 51,
   "metadata": {},
   "outputs": [
    {
     "data": {
      "text/plain": [
       "0.02180165135912422"
      ]
     },
     "execution_count": 51,
     "metadata": {},
     "output_type": "execute_result"
    }
   ],
   "source": [
    "f1_score(ari_step2[16],ari_step2[17],average='micro')"
   ]
  },
  {
   "cell_type": "code",
   "execution_count": 55,
   "metadata": {},
   "outputs": [
    {
     "name": "stdout",
     "output_type": "stream",
     "text": [
      "PPI F-scores\n"
     ]
    }
   ],
   "source": [
    "str_graphlets = list_of_strings(list(range(30)))\n",
    "make_df(P,str_graphlets,str_graphlets,'PPI F-scores').to_csv('ppi_fscore_micro.csv')"
   ]
  },
  {
   "cell_type": "code",
   "execution_count": 20,
   "metadata": {},
   "outputs": [
    {
     "data": {
      "text/plain": [
       "<matplotlib.image.AxesImage at 0x119193e20>"
      ]
     },
     "execution_count": 20,
     "metadata": {},
     "output_type": "execute_result"
    },
    {
     "data": {
      "image/png": "[encoded data removed]",
      "text/plain": [
       "<Figure size 432x288 with 1 Axes>"
      ]
     },
     "metadata": {
      "needs_background": "light"
     },
     "output_type": "display_data"
    }
   ],
   "source": [
    "plt.imshow(P)"
   ]
  },
  {
   "cell_type": "code",
   "execution_count": null,
   "metadata": {},
   "outputs": [],
   "source": [
    "#cluster_sizes[2][:8]\n",
    "plt.scatter(cluster_sizes[18][:15],list(range(15)))"
   ]
  },
  {
   "cell_type": "markdown",
   "metadata": {},
   "source": [
    "## Edges Missing"
   ]
  },
  {
   "cell_type": "code",
   "execution_count": 81,
   "metadata": {},
   "outputs": [
    {
     "name": "stdout",
     "output_type": "stream",
     "text": [
      "Graphlet 0: 0 edges removed or 100.0 percent left.\n",
      "Graphlet 1: 22 edges removed or 99.99 percent left.\n",
      "Graphlet 2: 60533 edges removed or 82.12 percent left.\n",
      "Graphlet 3: 29 edges removed or 99.99 percent left.\n",
      "Graphlet 4: 102 edges removed or 99.97 percent left.\n",
      "Graphlet 5: 9057 edges removed or 97.33 percent left.\n",
      "Graphlet 6: 768 edges removed or 99.77 percent left.\n",
      "Graphlet 7: 61440 edges removed or 81.86 percent left.\n",
      "Graphlet 8: 121900 edges removed or 64.0 percent left.\n",
      "Graphlet 9: 32 edges removed or 99.99 percent left.\n",
      "Graphlet 10: 32 edges removed or 99.99 percent left.\n",
      "Graphlet 11: 258 edges removed or 99.92 percent left.\n",
      "Graphlet 12: 791 edges removed or 99.77 percent left.\n",
      "Graphlet 13: 15 edges removed or 100.0 percent left.\n",
      "Graphlet 14: 800 edges removed or 99.76 percent left.\n",
      "Graphlet 15: 6541 edges removed or 98.07 percent left.\n",
      "Graphlet 16: 170 edges removed or 99.95 percent left.\n",
      "Graphlet 17: 2158 edges removed or 99.36 percent left.\n",
      "Graphlet 18: 60609 edges removed or 82.1 percent left.\n",
      "Graphlet 19: 941 edges removed or 99.72 percent left.\n",
      "Graphlet 20: 13742 edges removed or 95.94 percent left.\n",
      "Graphlet 21: 6265 edges removed or 98.15 percent left.\n",
      "Graphlet 22: 64399 edges removed or 80.98 percent left.\n",
      "Graphlet 23: 5853 edges removed or 98.27 percent left.\n",
      "Graphlet 24: 61938 edges removed or 81.71 percent left.\n",
      "Graphlet 25: 14440 edges removed or 95.74 percent left.\n",
      "Graphlet 26: 122030 edges removed or 63.96 percent left.\n",
      "Graphlet 27: 82431 edges removed or 75.66 percent left.\n",
      "Graphlet 28: 123443 edges removed or 63.55 percent left.\n",
      "Graphlet 29: 166999 edges removed or 50.68 percent left.\n"
     ]
    }
   ],
   "source": [
    "ppi_edges = 338636\n",
    "for i in range(30):\n",
    "    ith_edgelist = []\n",
    "    intermed = open('../summer-2022/ppi_out/G'+str(i)+'/intermed_G'+str(i)+'.txt', \"r\")\n",
    "    for line in intermed:\n",
    "        intermed_stripped_line = line.strip()\n",
    "        intermed_line_list = intermed_stripped_line.split()\n",
    "        ith_edgelist.append(intermed_line_list)\n",
    "    intermed.close()\n",
    "    ith_edges = len(ith_edgelist)\n",
    "    edge_difference = ppi_edges-ith_edges\n",
    "    edge_percent = round(float(ith_edges)/float(ppi_edges)*100,2)\n",
    "    print('Graphlet ' + str(i) + ': ' + str(edge_difference) + ' edges removed or ' + str(edge_percent) + ' percent left.')"
   ]
  },
  {
   "cell_type": "code",
   "execution_count": null,
   "metadata": {},
   "outputs": [],
   "source": [
    "huri_edges = 63242\n",
    "for i in range(30):\n",
    "    ith_edgelist = []\n",
    "    intermed = open('../summer-2022/huri_out/G'+str(i)+'/intermed_G'+str(i)+'.txt', \"r\")\n",
    "    for line in intermed:\n",
    "        intermed_stripped_line = line.strip()\n",
    "        intermed_line_list = intermed_stripped_line.split()\n",
    "        ith_edgelist.append(intermed_line_list)\n",
    "    intermed.close()\n",
    "    ith_edges = len(ith_edgelist)\n",
    "    edge_difference = huri_edges-ith_edges\n",
    "    edge_percent = round(float(ith_edges)/float(huri_edges)*100,2)\n",
    "    print('Graphlet ' + str(i) + ': ' + str(edge_difference) + ' edges removed or ' + str(edge_percent) + ' percent left.')"
   ]
  },
  {
   "cell_type": "markdown",
   "metadata": {},
   "source": [
    "## Beginning Scraps"
   ]
  },
  {
   "cell_type": "code",
   "execution_count": null,
   "metadata": {},
   "outputs": [],
   "source": [
    "nx.degree_histogram(nx.karate_club_graph())"
   ]
  },
  {
   "cell_type": "code",
   "execution_count": null,
   "metadata": {},
   "outputs": [],
   "source": [
    "g = '../summer-2022/data/interactomes/PP-Pathways_ppi.csv'\n",
    "df = pd.read_csv(g, delimiter=',')\n",
    "list_of_rows = [list(row) for row in df.values]\n",
    "list_of_rows.insert(0, df.columns.to_list())\n",
    "df_tuples = [tuple(x) for x in list_of_rows]\n",
    "ndf = nx.from_edgelist(df_tuples)"
   ]
  },
  {
   "cell_type": "code",
   "execution_count": null,
   "metadata": {},
   "outputs": [],
   "source": [
    "num_edges = nx.number_of_edges(ndf)\n",
    "num_nodes = nx.number_of_nodes(ndf)"
   ]
  },
  {
   "cell_type": "code",
   "execution_count": null,
   "metadata": {},
   "outputs": [],
   "source": [
    "print(num_edges,num_nodes)\n",
    "print(nx.density(ndf))"
   ]
  },
  {
   "cell_type": "code",
   "execution_count": null,
   "metadata": {},
   "outputs": [],
   "source": [
    "ndf_hist = nx.degree_histogram(ndf)\n",
    "short_hist = ndf_hist[0:60]\n",
    "matplotlib.pyplot.hist(short_hist,bins=100);"
   ]
  },
  {
   "cell_type": "code",
   "execution_count": null,
   "metadata": {},
   "outputs": [],
   "source": [
    "for i in range(1):\n",
    "    print(i)"
   ]
  },
  {
   "cell_type": "code",
   "execution_count": null,
   "metadata": {},
   "outputs": [],
   "source": [
    "g = input(\"Which: \")\n"
   ]
  },
  {
   "cell_type": "code",
   "execution_count": null,
   "metadata": {},
   "outputs": [],
   "source": [
    "g"
   ]
  },
  {
   "cell_type": "code",
   "execution_count": null,
   "metadata": {},
   "outputs": [],
   "source": [
    "import os"
   ]
  },
  {
   "cell_type": "code",
   "execution_count": null,
   "metadata": {},
   "outputs": [],
   "source": [
    "os.system(\"mcl Desktop/summer-2022/data/interactomes/All_Pathway_Commons.txt --abc -o jupyter_mcl_practice\")"
   ]
  },
  {
   "cell_type": "code",
   "execution_count": null,
   "metadata": {},
   "outputs": [],
   "source": [
    "test = {'weight': 1.0}"
   ]
  },
  {
   "cell_type": "code",
   "execution_count": null,
   "metadata": {},
   "outputs": [],
   "source": [
    "weight_text = str(test)\n",
    "weight_list = weight_text.split()\n",
    "last_weight = weight_list[1]\n",
    "weight = last_weight[:-1]"
   ]
  },
  {
   "cell_type": "code",
   "execution_count": null,
   "metadata": {},
   "outputs": [],
   "source": [
    "print(weight)"
   ]
  },
  {
   "cell_type": "code",
   "execution_count": null,
   "metadata": {},
   "outputs": [],
   "source": []
  }
 ],
 "metadata": {
  "kernelspec": {
   "display_name": "Python 3.9.5 64-bit",
   "language": "python",
   "name": "python3"
  },
  "language_info": {
   "codemirror_mode": {
    "name": "ipython",
    "version": 3
   },
   "file_extension": ".py",
   "mimetype": "text/x-python",
   "name": "python",
   "nbconvert_exporter": "python",
   "pygments_lexer": "ipython3",
   "version": "3.9.5"
  },
  "orig_nbformat": 4,
  "vscode": {
   "interpreter": {
    "hash": "aee8b7b246df8f9039afb4144a1f6fd8d2ca17a180786b69acc140d282b71a49"
   }
  }
 },
 "nbformat": 4,
 "nbformat_minor": 2
}
