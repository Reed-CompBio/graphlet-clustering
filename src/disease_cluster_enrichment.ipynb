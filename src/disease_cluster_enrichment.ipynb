{
 "cells": [
  {
   "cell_type": "code",
   "execution_count": 3,
   "metadata": {},
   "outputs": [],
   "source": [
    "import numpy as np\n",
    "import networkx as nx\n",
    "import pandas as pd\n",
    "import os\n",
    "import os.path\n",
    "from csv import reader\n",
    "from networkx.algorithms import approximation\n",
    "import matplotlib\n",
    "from matplotlib import pyplot as plt\n",
    "from sklearn.metrics.cluster import adjusted_rand_score\n",
    "from sklearn.preprocessing import MultiLabelBinarizer\n",
    "from scipy.stats import hypergeom"
   ]
  },
  {
   "cell_type": "code",
   "execution_count": 4,
   "metadata": {},
   "outputs": [],
   "source": [
    "def make_disease_gene_dictionary(interactome_dg_file):\n",
    "\tGi = open(interactome_dg_file, \"r\")\n",
    "\tppi_dg_dict = {}\n",
    "\tfor line in Gi:\n",
    "\t\tstripped_line = line.strip()\n",
    "\t\tline_list = stripped_line.split()\n",
    "\t\tdisease_id = line_list[0]\n",
    "\t\tgene_id = line_list[-1]\n",
    "\t\t\n",
    "\t\tif disease_id in ppi_dg_dict:\n",
    "\t\t\tupdated_list = ppi_dg_dict[disease_id]\n",
    "\t\t\tupdated_list.append(gene_id)  \n",
    "\t\t\tppi_dg_dict[disease_id] = updated_list\n",
    "\t\telse:\n",
    "\t\t\tppi_dg_dict[disease_id] = [gene_id]\n",
    "\tGi.close()\n",
    "\tppi_dg_dict.pop('#');\n",
    "\treturn(ppi_dg_dict)\n",
    "\n",
    "def convert_to_integers(unconverted,interactome_mcl_dir):\n",
    "\tconverted = []\n",
    "\tG_initial = '../summer-2022/'+interactome_mcl_dir+'orca5/g_network_nodeid.txt'\n",
    "\tGi = open(G_initial, \"r\")\n",
    "\tfor line in Gi:\n",
    "\t\tstripped_line = line.strip()\n",
    "\t\tpair_list = stripped_line.split()\n",
    "\n",
    "\t\tif pair_list[1] in unconverted:\n",
    "\t\t\tconverted.append(pair_list[0])\n",
    "\tGi.close()\n",
    "\treturn(converted)\n",
    "\n",
    "def get_all_clusters(interactome_mcl_dir):\n",
    "\tall_clusters = []\n",
    "\tcluster_lengths = []\n",
    "\t\n",
    "\tfor i in range(30):\n",
    "\n",
    "\t\tG_initial = interactome_mcl_dir + 'inflation_tests/G'+str(i)+'_I3.0'\n",
    "\t\tith_clusters = []\n",
    "\t\tith_lengths = []\n",
    "\t\n",
    "\t\tGi = open(G_initial, \"r\")\n",
    "\t\tfor line in Gi:\n",
    "\t\t\t\n",
    "\t\t\tstripped_line = line.strip()\n",
    "\t\t\tline_list = stripped_line.split()\n",
    "\t\t\t\n",
    "\t\t\tith_clusters.append(line_list)\n",
    "\t\t\tith_lengths.append(len(line_list))\n",
    "\n",
    "\t\tGi.close()\n",
    "\n",
    "\t\t#add all the nodes taken off by the graphlet step\n",
    "\t\tall_clusters.append(ith_clusters)\n",
    "\t\tcluster_lengths.append(ith_lengths)\n",
    "\treturn(all_clusters,cluster_lengths)\n",
    "\n",
    "# Given all of the clusters and the target nodes, it will return a list of lists of the number of target nodes\n",
    "# in each cluster\n",
    "def get_target_counts(all_clusters,target_nodes):\n",
    "\n",
    "\tall_target_counts = []\n",
    "\n",
    "\n",
    "\tfor i in range(len(all_clusters)):\n",
    "\n",
    "\t\tith_target_counts = []\n",
    "\t\n",
    "\n",
    "\t\tfor j in range(len(all_clusters[i])):\n",
    "\n",
    "\t\t\tcount = 0\n",
    "\t\t\tfor target in target_nodes:\n",
    "\t\t\t\tif target in all_clusters[i][j]:\n",
    "\t\t\t\t\tcount += 1\n",
    "\t\t\t\t\t\n",
    "\t\t\t\n",
    "\t\t\t#if count>0:\n",
    "\t\t\tith_target_counts.append(count)\n",
    "\n",
    "\t\t\n",
    "\t\tif len(ith_target_counts)<0:\n",
    "\t\t\tith_target_counts = [None]\n",
    "\t\n",
    "\n",
    "\t\tall_target_counts.append(ith_target_counts)\n",
    "\n",
    "\treturn(all_target_counts)\n",
    "\n",
    "def list_of_strings(list,prefix='',suffix=''):\n",
    "    return_list = []\n",
    "    for item in list:\n",
    "        return_list.append(prefix+str(item)+suffix)\n",
    "    return return_list\n",
    "\n",
    "# a max function that also returns the index of the max value in the list\n",
    "def max_returns_index(ranlis):\n",
    "    mx = 0\n",
    "    mx_index = 0\n",
    "    for i in range(len(ranlis)):\n",
    "        if ranlis[i] > mx:\n",
    "            mx = ranlis[i]\n",
    "            mx_index = i\n",
    "    return(mx,mx_index)\n",
    "\n",
    "def convert_from_integers(integers,interactome_mcl_dir):\n",
    "\toriginal = []\n",
    "\tG_initial = '../summer-2022/'+interactome_mcl_dir+'orca5/g_network_nodeid.txt'\n",
    "\tGi = open(G_initial, \"r\")\n",
    "\tfor line in Gi:\n",
    "\t\tstripped_line = line.strip()\n",
    "\t\tpair_list = stripped_line.split()\n",
    "\n",
    "\t\tif pair_list[0] in integers:\n",
    "\t\t\toriginal.append(pair_list[1])\n",
    "\tGi.close()\n",
    "\treturn(original)\n"
   ]
  },
  {
   "cell_type": "code",
   "execution_count": 5,
   "metadata": {},
   "outputs": [],
   "source": [
    "interactome_dg_file = '../summer-2022/data/disease_associations/ppi_DG.tsv'\n",
    "interactome_mcl_dir = 'ppi_out/'\n",
    "disease_gene_dict = make_disease_gene_dictionary(interactome_dg_file)\n",
    "all_clusters,cluster_lengths = get_all_clusters(interactome_mcl_dir)\n",
    "\n",
    "ids_lis = []\n",
    "for ids in disease_gene_dict:\n",
    "    ids_lis.append(ids)"
   ]
  },
  {
   "cell_type": "code",
   "execution_count": null,
   "metadata": {},
   "outputs": [],
   "source": []
  },
  {
   "cell_type": "code",
   "execution_count": 6,
   "metadata": {},
   "outputs": [],
   "source": [
    "all_counts = []\n",
    "\n",
    "for disease_id in disease_gene_dict:\n",
    "    target_nodes_unconverted = disease_gene_dict[disease_id]\n",
    "    target_nodes = convert_to_integers(target_nodes_unconverted,interactome_mcl_dir)\n",
    "    target_counts = get_target_counts(all_clusters,target_nodes)\n",
    "    all_counts.append(target_counts)"
   ]
  },
  {
   "cell_type": "code",
   "execution_count": 7,
   "metadata": {},
   "outputs": [],
   "source": [
    "P = np.zeros(len(disease_gene_dict)*30).reshape(30,len(disease_gene_dict))\n",
    "significant_array = np.zeros(len(disease_gene_dict)*30).reshape(30,len(disease_gene_dict))\n",
    "cluster_index_array = np.zeros(len(disease_gene_dict)*30).reshape(30,len(disease_gene_dict))\n",
    "significant_labels = []\n",
    "sig_counts = []\n",
    "\n",
    "for j in range(519):\n",
    "    disease_counts_by_graphlet = []\n",
    "    target_counts = all_counts[j]\n",
    "    for i in range(30):\n",
    "        if len(target_counts[i]) > 0:\n",
    "                mx, mx_index = max_returns_index(target_counts[i])\n",
    "                cluster_index_array[i][j] = mx_index\n",
    "                P[i][j] = max(target_counts[i])\n",
    "                \n",
    "                disease_counts_by_graphlet.append(max(target_counts[i]))\n",
    "    if max(disease_counts_by_graphlet) > 4:\n",
    "        sig_counts.append(target_counts)\n",
    "        significant_labels.append(list(disease_gene_dict)[j])\n",
    "        for i in range(30):\n",
    "            if len(target_counts[i]) > 0:\n",
    "                significant_array[i][j] = max(target_counts[i])"
   ]
  },
  {
   "cell_type": "code",
   "execution_count": 8,
   "metadata": {},
   "outputs": [],
   "source": [
    "step1 = significant_array.transpose()\n",
    "step2 = step1[~np.all(step1 == 0, axis=1)]\n",
    "significant_array = step2.transpose()"
   ]
  },
  {
   "cell_type": "code",
   "execution_count": 50,
   "metadata": {},
   "outputs": [],
   "source": [
    "# Just all of the target counts (P)\n",
    "row_names = list_of_strings(list(range(30)),'G')\n",
    "row_names.append('DG_size')\n",
    "\n",
    "dg_list_sizes = []\n",
    "for ids in disease_gene_dict:\n",
    "    dg_list_sizes.append(len(disease_gene_dict[ids]))\n",
    "    \n",
    "P = np.vstack([P,dg_list_sizes])\n",
    "    \n",
    "column_names = ids_lis\n",
    "\n",
    "#pd.DataFrame(np.array(P),columns=column_names,index = row_names).to_csv('ppi_dg_maxs4.csv')"
   ]
  },
  {
   "cell_type": "code",
   "execution_count": 116,
   "metadata": {},
   "outputs": [],
   "source": [
    "# Special target counts\n",
    "\n",
    "x_sizes = []\n",
    "for label in significant_labels:\n",
    "    x_sizes.append(len(disease_gene_dict[label]))\n",
    "\n",
    "row_names = list_of_strings(list(range(30)),'G')\n",
    "row_names.append('DG_size')\n",
    "\n",
    "column_names = significant_labels\n",
    "\n",
    "significant_array = np.vstack([significant_array,x_sizes])\n",
    "\n",
    "pd.DataFrame(significant_array,columns=column_names,index = row_names).to_csv('ppi_dg_special_test1.csv')\n"
   ]
  },
  {
   "cell_type": "code",
   "execution_count": 176,
   "metadata": {},
   "outputs": [],
   "source": [
    "# Special target counts with Cluster lengths\n",
    "column_len = len(significant_labels)\n",
    "X_with_cluster_lengths = np.zeros(2*column_len*30).reshape(30,2*column_len)\n",
    "count = 0\n",
    "for j in range(519):\n",
    "    if significant_array[0][j] != 0:\n",
    "        for i in range(30):\n",
    "            X_with_cluster_lengths[i][count] = significant_array[i][j]\n",
    "            cor_cluster = int(cluster_index_array[i][j]) #corresponding cluster\n",
    "            X_with_cluster_lengths[i][count+1] = len(all_clusters[i][cor_cluster])\n",
    "        count+=2\n",
    "\n",
    "x_sizes = []\n",
    "for label in significant_labels:\n",
    "    x_sizes.append(len(disease_gene_dict[label]))\n",
    "    x_sizes.append(0)\n",
    "\n",
    "row_names = list_of_strings(list(range(30)),'G')\n",
    "row_names.append('DG_size')\n",
    "\n",
    "column_names = []\n",
    "for label in significant_labels:\n",
    "    column_names.append(label)\n",
    "    column_names.append('')\n",
    "\n",
    "\n",
    "X_with_cluster_lengths = np.vstack([X_with_cluster_lengths,x_sizes])\n",
    "\n",
    "pd.DataFrame(np.array(X_with_cluster_lengths),columns=column_names,index = row_names).to_csv('ppi_dg_special_clusterlen2.csv')"
   ]
  },
  {
   "cell_type": "code",
   "execution_count": 131,
   "metadata": {},
   "outputs": [
    {
     "data": {
      "text/plain": [
       "519"
      ]
     },
     "execution_count": 131,
     "metadata": {},
     "output_type": "execute_result"
    }
   ],
   "source": [
    "len(all_counts)"
   ]
  },
  {
   "cell_type": "code",
   "execution_count": 162,
   "metadata": {},
   "outputs": [
    {
     "data": {
      "text/plain": [
       "519"
      ]
     },
     "execution_count": 162,
     "metadata": {},
     "output_type": "execute_result"
    }
   ],
   "source": [
    "len(list(disease_gene_dict))"
   ]
  },
  {
   "cell_type": "code",
   "execution_count": 148,
   "metadata": {},
   "outputs": [],
   "source": [
    "total_dg_by_graphlet = np.zeros(518*30).reshape(30,518)\n",
    "total_genes_by_graphlet = []\n",
    "\n",
    "for i in range(30):\n",
    "    count = 0 \n",
    "    for cluster in all_clusters[i]:\n",
    "        for node in cluster:\n",
    "            count += 1\n",
    "    total_genes_by_graphlet.append(count)\n",
    "\n",
    "    for j in range(518):\n",
    "        total_dg_by_graphlet[i][j] = sum(all_counts[j][i])"
   ]
  },
  {
   "cell_type": "code",
   "execution_count": 159,
   "metadata": {},
   "outputs": [
    {
     "name": "stdout",
     "output_type": "stream",
     "text": [
      "21.0 7642 22.0 87\n"
     ]
    },
    {
     "data": {
      "text/plain": [
       "2.4624152605447643e-41"
      ]
     },
     "execution_count": 159,
     "metadata": {},
     "output_type": "execute_result"
    }
   ],
   "source": [
    "i=29\n",
    "j=7 \n",
    "\n",
    "num_of_poss_dg = total_dg_by_graphlet[i][j]\n",
    "\n",
    "total_genes = total_genes_by_graphlet[i]\n",
    "\n",
    "cor_cluster = int(cluster_index_array[i][j]) #corresponding cluster\n",
    "chosen_cluster_size = len(all_clusters[i][cor_cluster])\n",
    "\n",
    "correct_dg = P[i][j]\n",
    "\n",
    "print(correct_dg, total_genes, num_of_poss_dg, chosen_cluster_size)\n",
    "\n",
    "hypergeom.sf(correct_dg-1, total_genes, num_of_poss_dg, chosen_cluster_size)"
   ]
  },
  {
   "cell_type": "code",
   "execution_count": 9,
   "metadata": {},
   "outputs": [],
   "source": [
    "# Attempting the hypergeometric test\n",
    "H = np.zeros(519*30).reshape(30,519)\n",
    "\n",
    "dg_list_sizes = []\n",
    "for ids in disease_gene_dict:\n",
    "    dg_list_sizes.append(len(disease_gene_dict[ids]))\n",
    "\n",
    "for j in range(519):\n",
    "    for i in range(30):\n",
    "\n",
    "        num_of_poss_dg = dg_list_sizes[j]\n",
    "        #total_dg_by_graphlet[i][j]\n",
    "        \n",
    "        total_genes = 21538\n",
    "        #total_genes_by_graphlet[i]\n",
    "\n",
    "        cor_cluster = int(cluster_index_array[i][j]) #corresponding cluster\n",
    "        chosen_cluster_size = len(all_clusters[i][cor_cluster])\n",
    "\n",
    "        correct_dg = P[i][j]\n",
    "\n",
    "        H[i][j] = hypergeom.sf(correct_dg-1, total_genes, num_of_poss_dg, chosen_cluster_size)\n",
    "\n",
    "row_names = list_of_strings(list(range(30)),'G')\n",
    "row_names.append('DG_size')\n",
    "\n",
    "\n",
    "    \n",
    "#H = np.vstack([H,dg_list_sizes])\n",
    "    \n",
    "column_names = ids_lis\n",
    "\n",
    "#pd.DataFrame(H,columns=column_names,index = row_names).to_csv('ppi_dg_hypergeo3.csv')"
   ]
  },
  {
   "cell_type": "code",
   "execution_count": 163,
   "metadata": {},
   "outputs": [],
   "source": [
    "#pd.DataFrame(H)"
   ]
  },
  {
   "cell_type": "code",
   "execution_count": 10,
   "metadata": {},
   "outputs": [
    {
     "data": {
      "text/plain": [
       "array([3.71616429e-01, 1.10649366e-01, 3.26977187e-08, 9.79011832e-07,\n",
       "       3.17019494e-02, 3.13075002e-02, 6.43392276e-02, 2.97915733e-45,\n",
       "       1.12630962e-01, 1.67061082e-03, 3.47470625e-04, 7.08264829e-03,\n",
       "       1.51337492e-06, 1.23849048e-04, 3.24599770e-03, 1.64527572e-02,\n",
       "       7.63602394e-03, 4.24326291e-05, 6.77986055e-06, 2.73898709e-01,\n",
       "       3.04332727e-03, 3.83241362e-05, 2.95323500e-01, 4.58799840e-03,\n",
       "       1.72758983e-02, 1.18757470e-05, 1.06703667e-04, 3.92161785e-05,\n",
       "       9.82798358e-05, 2.42632545e-04, 2.02408231e-02, 1.02255025e-01,\n",
       "       3.53551975e-06, 8.14320248e-03, 3.92356460e-07, 5.18913769e-03,\n",
       "       4.17187565e-03, 1.67292626e-02, 1.48514404e-02, 2.28332265e-05,\n",
       "       2.43191845e-01, 1.35761042e-06, 1.06427701e-01, 1.00755147e-01,\n",
       "       4.86560693e-03, 2.03373832e-01, 5.92851631e-03, 6.59608485e-01,\n",
       "       2.93765831e-05, 4.91233728e-02, 9.55566238e-05, 1.03162886e-03,\n",
       "       1.00137534e-01, 1.38438033e-02, 9.70955994e-03, 1.03992411e-02,\n",
       "       1.67292626e-02, 4.49387966e-02, 6.48250946e-03, 1.63200548e-05,\n",
       "       3.17461771e-01, 2.81858515e-02, 1.84401975e-05, 9.41236134e-08,\n",
       "       7.12860965e-03, 5.09659295e-03, 3.10494692e-01, 9.71394401e-02,\n",
       "       2.61935374e-04, 1.25814460e-03, 3.81226852e-02, 9.70911083e-03,\n",
       "       1.34492283e-01, 4.43804271e-02, 8.32207532e-18, 1.40264391e-02,\n",
       "       1.10889224e-02, 7.05635183e-03, 1.46415361e-01, 5.14902560e-04,\n",
       "       4.25147284e-05, 6.66741404e-03, 2.63062035e-26, 3.82904974e-05,\n",
       "       5.66598337e-02, 4.70889483e-02, 3.32852611e-02, 4.05791871e-02,\n",
       "       1.15493503e-02, 6.43392276e-02, 3.01456047e-03, 7.88414990e-03,\n",
       "       1.92416837e-02, 3.09442204e-02, 2.75246522e-04, 1.97416486e-02,\n",
       "       2.58729272e-02, 1.26455564e-05, 1.33485329e-01, 7.36121874e-06,\n",
       "       5.00415987e-03, 4.43804271e-02, 2.61572927e-02, 3.09179076e-02,\n",
       "       1.10896914e-02, 2.09729428e-02, 1.38431641e-02, 1.55843396e-02,\n",
       "       5.91700405e-06, 5.71762715e-05, 4.07753750e-01, 2.84302036e-06,\n",
       "       4.93827049e-05, 2.78286509e-03, 1.19564722e-01, 1.16355803e-06,\n",
       "       5.60495125e-03, 9.28397305e-04, 5.51281872e-03, 2.05069432e-09,\n",
       "       1.41664428e-30, 1.31552757e-02, 3.19490260e-06, 2.41894103e-03,\n",
       "       2.35239011e-06, 9.57126525e-02, 3.32585893e-02, 4.66237984e-02,\n",
       "       7.40548824e-03, 3.51560918e-05, 1.15493503e-02, 1.19321416e-08,\n",
       "       9.71011772e-02, 4.97899182e-02, 6.30472090e-02, 7.77485957e-03,\n",
       "       6.93178375e-03, 8.18241132e-08, 2.70665887e-05, 1.45125573e-03,\n",
       "       9.66332457e-03, 4.83613528e-02, 5.82258195e-03, 8.78247470e-05,\n",
       "       2.45624799e-06, 1.58214569e-08, 2.82682625e-04, 4.14272818e-02,\n",
       "       5.09659295e-03, 1.15617048e-01, 5.60495125e-03, 8.53434401e-07,\n",
       "       5.16628672e-05, 1.76868316e-02, 7.65347270e-08, 1.67702662e-04,\n",
       "       2.42434543e-02, 2.13804576e-02, 6.45641128e-02, 1.47595390e-02,\n",
       "       2.95847014e-02, 5.50153201e-01, 1.15493503e-02, 3.51500677e-06,\n",
       "       3.92356460e-07, 3.92356460e-07, 1.75831982e-06, 1.26455564e-05,\n",
       "       2.12444837e-02, 1.03062164e-04, 1.98864974e-01, 8.37947786e-02,\n",
       "       1.15493503e-02, 6.16914144e-04, 1.93292921e-02, 1.15493503e-02,\n",
       "       7.15123293e-02, 1.52594357e-01, 7.79972813e-02, 2.27012262e-02,\n",
       "       1.38438033e-02, 1.55150671e-06, 7.32974767e-01, 1.59269996e-03,\n",
       "       1.91367062e-05, 2.32116985e-01, 2.88613093e-02, 5.81923128e-07,\n",
       "       5.81048817e-05, 4.70889483e-02, 4.65572742e-08, 1.98769479e-02,\n",
       "       3.26904909e-02, 4.70889483e-02, 5.86378885e-07, 5.83628930e-03,\n",
       "       1.62812487e-03, 1.88636554e-03, 1.92300983e-04, 1.52175985e-02,\n",
       "       2.18341916e-02, 2.11278893e-01, 6.11307340e-03, 1.35186912e-04,\n",
       "       2.11703648e-04, 4.64534473e-02, 2.12293338e-08, 9.66332457e-03,\n",
       "       1.85601881e-03, 1.34541015e-03, 1.55150671e-06, 2.48095130e-05,\n",
       "       2.64021840e-09, 5.39085028e-02, 1.15863967e-01, 3.56758134e-06,\n",
       "       6.62095950e-03, 7.32974767e-01, 7.40548824e-03, 1.94022425e-07,\n",
       "       1.00772980e-05, 2.31953881e-03, 8.08189782e-05, 9.94133115e-06,\n",
       "       1.82365760e-02, 1.00755147e-01, 9.70911083e-03, 4.84053875e-05,\n",
       "       3.49909695e-04, 3.34704132e-02, 1.72758983e-02, 1.65519939e-01,\n",
       "       3.06079628e-03, 1.00761750e-05, 8.34839303e-03, 1.52174834e-01,\n",
       "       2.70096342e-01, 1.07277796e-01, 5.41542237e-02, 1.25513818e-01,\n",
       "       2.88666887e-01, 6.24984496e-03, 7.22871836e-03, 1.18757470e-05,\n",
       "       2.98609546e-06, 1.76060641e-01, 2.84566224e-07, 2.03242802e-05,\n",
       "       2.78286509e-03, 1.58829512e-04, 8.78850952e-03, 1.24952879e-04,\n",
       "       2.30024299e-02, 4.17168222e-03, 6.94409536e-03, 5.96664703e-06,\n",
       "       1.21765513e-01, 1.98520231e-10, 3.70893671e-03, 3.40790721e-03,\n",
       "       2.19040467e-03, 2.03093527e-01, 5.86378885e-07, 3.06079628e-03,\n",
       "       2.84566224e-07, 3.33866293e-03, 3.88338295e-03, 2.12663973e-04,\n",
       "       4.16643338e-02, 3.92356460e-07, 5.29548460e-02, 5.55875833e-03,\n",
       "       1.33131645e-01, 2.43191845e-01, 1.17663213e-06, 2.78286509e-03,\n",
       "       3.89411231e-03, 1.11660423e-03, 5.43502095e-02, 5.19769248e-01,\n",
       "       3.73511495e-03, 2.02450169e-02, 2.02450169e-02, 1.17042545e-04,\n",
       "       1.47171580e-01, 7.38566541e-02, 1.76398917e-01, 1.92416837e-02,\n",
       "       1.52174834e-01, 1.33131645e-01, 7.74768661e-05, 4.66084981e-06,\n",
       "       1.09874990e-01, 7.63602394e-03, 4.95179501e-02, 3.76737272e-18,\n",
       "       2.88613093e-02, 8.64313504e-03, 3.17019494e-02, 6.93115318e-10,\n",
       "       7.11217356e-07, 2.78682714e-02, 1.94889268e-18, 3.56207548e-02,\n",
       "       8.78247470e-05, 9.98604814e-03, 1.22194870e-08, 5.23023048e-02,\n",
       "       1.97416486e-02, 7.12860965e-03, 1.85601881e-03, 4.17168222e-03,\n",
       "       5.03771562e-06, 6.32129791e-02, 7.50887013e-04, 5.63192495e-04,\n",
       "       1.09083719e-06, 3.89216169e-04, 5.52106377e-09, 2.45661303e-01,\n",
       "       1.94823602e-01, 4.84275155e-05, 7.22085394e-03, 5.85562448e-06,\n",
       "       1.26455564e-05, 1.35681878e-02, 2.31953881e-03, 3.06043842e-03,\n",
       "       3.28838336e-05, 3.14316178e-01, 7.49747411e-02, 2.73072992e-03,\n",
       "       7.33246920e-04, 2.12444837e-02, 1.03046163e-01, 1.47669110e-01,\n",
       "       2.90745448e-06, 1.28660378e-06, 6.02073047e-03, 4.73792106e-07,\n",
       "       1.18240698e-02, 4.21781471e-05, 6.40971677e-06, 6.65060032e-04,\n",
       "       1.19135092e-04, 4.06942823e-06, 1.54932000e-02, 7.63602394e-03,\n",
       "       9.10230557e-06, 1.71892148e-03, 8.14320248e-03, 1.68751372e-01,\n",
       "       1.86468247e-01, 3.02243808e-02, 3.47359647e-02, 2.64186495e-02,\n",
       "       1.14624946e-03, 9.39733290e-06, 2.31570007e-02, 2.09695649e-02,\n",
       "       5.86734287e-02, 1.52207095e-07, 6.77986055e-06, 1.54270745e-01,\n",
       "       8.49391528e-03, 6.62878693e-06, 4.06289617e-05, 1.15715931e-01,\n",
       "       2.78940058e-01, 5.53330506e-01, 3.36305537e-07, 5.42456057e-06,\n",
       "       1.03091102e-04, 1.70782694e-05, 4.77948019e-01, 7.30595051e-02,\n",
       "       1.72758983e-02, 4.64534473e-02, 7.00764945e-02, 3.55311540e-06,\n",
       "       3.02094023e-05, 9.57372978e-06, 1.87555011e-06, 4.17187565e-03,\n",
       "       7.72426536e-02, 2.01645926e-06, 1.61792356e-02, 5.83601888e-03,\n",
       "       1.71250352e-05, 4.00902169e-02, 9.42028123e-04, 2.63721835e-02,\n",
       "       7.65563399e-05, 5.96664703e-06, 1.78026585e-01, 3.58492673e-01,\n",
       "       1.38763508e-04, 4.28866388e-05, 1.10889224e-02, 3.45344118e-02,\n",
       "       1.64527572e-02, 7.71592569e-05, 1.37976585e-02, 1.70634043e-06,\n",
       "       3.70893671e-03, 9.89087813e-04, 1.52741389e-04, 5.00415987e-03,\n",
       "       3.95413769e-06, 2.55755434e-05, 3.92356460e-07, 8.90435130e-05,\n",
       "       2.09289272e-10, 1.27606839e-09, 2.47287153e-01, 2.86335936e-02,\n",
       "       7.13030366e-06, 1.83965099e-12, 5.81923128e-07, 5.00415987e-03,\n",
       "       1.94022425e-07, 5.13763745e-02, 1.38189299e-05, 4.59697884e-02,\n",
       "       9.50337769e-04, 5.66598337e-02, 1.60880780e-01, 1.06370109e-04,\n",
       "       3.04245156e-05, 1.91474183e-02, 1.94022425e-07, 3.90610970e-05,\n",
       "       1.11813284e-02, 3.50479035e-08, 1.77343320e-02, 6.68571236e-03,\n",
       "       1.63200548e-05, 8.52283264e-05, 1.38438033e-02, 9.70955994e-03,\n",
       "       2.31058590e-09, 1.14503570e-04, 3.61646503e-03, 3.24599770e-03,\n",
       "       3.74077401e-02, 1.63729217e-05, 7.40548824e-03, 1.72758983e-02,\n",
       "       2.88613093e-02, 9.15685270e-03, 1.19189441e-01, 2.31953881e-03,\n",
       "       4.54186566e-03, 3.60630972e-05, 6.62095950e-03, 1.01408505e-04,\n",
       "       9.70911083e-03, 7.77575964e-03, 2.68134150e-03, 6.51562681e-04,\n",
       "       1.07012053e-01, 5.08501967e-05, 3.40170741e-05, 1.18761270e-03,\n",
       "       1.99987295e-02, 1.18689867e-08, 2.84566224e-07, 2.62891967e-05,\n",
       "       7.73884676e-04, 5.27772022e-05, 2.56567108e-01, 1.09883930e-01,\n",
       "       3.11552288e-02, 3.44572466e-02, 7.95306672e-06, 2.78885520e-08,\n",
       "       6.94409536e-03, 2.06965249e-02, 9.43302025e-03, 1.69306588e-03,\n",
       "       3.31421048e-01, 3.87113065e-03, 6.58696555e-06, 2.33262727e-01,\n",
       "       4.46231439e-03, 4.97297568e-06, 5.78477271e-02, 1.67292626e-02,\n",
       "       5.89182901e-04, 5.09659295e-03, 1.14806727e-01, 2.05628788e-08,\n",
       "       2.05628788e-08, 5.92851631e-03, 6.59676246e-07, 1.37149725e-02,\n",
       "       2.55125575e-03, 4.90975879e-06, 1.60880780e-01, 3.92356460e-07,\n",
       "       5.92851631e-03, 9.98087917e-07, 2.02408231e-02, 1.11813284e-02,\n",
       "       2.62891967e-05, 4.82717488e-02, 3.55311540e-06, 3.33866293e-03,\n",
       "       9.74663526e-02, 9.20198567e-03, 1.35681878e-02, 2.50197311e-08,\n",
       "       1.71800193e-03, 1.86468247e-01, 1.84173796e-02, 7.42821809e-03,\n",
       "       1.16583990e-03, 3.38521098e-04, 1.15870500e-07])"
      ]
     },
     "execution_count": 10,
     "metadata": {},
     "output_type": "execute_result"
    }
   ],
   "source": [
    "H[0]"
   ]
  },
  {
   "cell_type": "code",
   "execution_count": 34,
   "metadata": {},
   "outputs": [
    {
     "data": {
      "image/png": "[encoded data removed]",
      "text/plain": [
       "<Figure size 432x288 with 1 Axes>"
      ]
     },
     "metadata": {
      "needs_background": "light"
     },
     "output_type": "display_data"
    }
   ],
   "source": [
    "x1 = H[0]\n",
    "x2 = H[29]\n",
    "#x3 = H[8]\n",
    "#x4 = H[27]\n",
    "\n",
    "kwargs = dict(alpha=0.5, bins=4000)\n",
    "\n",
    "\n",
    "plt.hist(x1, **kwargs, color='g', label='G0')\n",
    "plt.hist(x2, **kwargs, color='b', label='G29')\n",
    "#plt.hist(x3, **kwargs, color='r', label='G8')\n",
    "#plt.hist(x4, **kwargs, color='k', label='G27')\n",
    "plt.gca().set(title='Frequency Histogram of Hypergeometric Scores', ylabel='Frequency')\n",
    "plt.xlim(0,.01)\n",
    "plt.legend();"
   ]
  },
  {
   "cell_type": "markdown",
   "metadata": {},
   "source": [
    "### Venn Diagrams"
   ]
  },
  {
   "cell_type": "code",
   "execution_count": 261,
   "metadata": {},
   "outputs": [],
   "source": [
    "disease = 0\n",
    "for i in range(519):\n",
    "    if ids_lis[i] == 'C0018843':\n",
    "        disease = i"
   ]
  },
  {
   "cell_type": "code",
   "execution_count": 263,
   "metadata": {},
   "outputs": [
    {
     "name": "stdout",
     "output_type": "stream",
     "text": [
      "9 18 3\n"
     ]
    }
   ],
   "source": [
    "zero_index = int(cluster_index_array[0][disease])\n",
    "zero_cluster = all_clusters[0][zero_index]\n",
    "tn_index = int(cluster_index_array[29][disease])\n",
    "tn_cluster = all_clusters[29][tn_index]\n",
    "tf_index = int(cluster_index_array[24][disease])\n",
    "tf_cluster = all_clusters[24][tf_index]\n",
    "print(len(zero_cluster),len(tn_cluster),len(tf_cluster))"
   ]
  },
  {
   "cell_type": "code",
   "execution_count": 262,
   "metadata": {},
   "outputs": [],
   "source": [
    "fot_dg = convert_to_integers(disease_gene_dict['C0018843'],interactome_mcl_dir)\n"
   ]
  },
  {
   "cell_type": "code",
   "execution_count": 266,
   "metadata": {},
   "outputs": [
    {
     "data": {
      "text/plain": [
       "12"
      ]
     },
     "execution_count": 266,
     "metadata": {},
     "output_type": "execute_result"
    }
   ],
   "source": [
    "len(fot_dg)"
   ]
  },
  {
   "cell_type": "code",
   "execution_count": 264,
   "metadata": {},
   "outputs": [
    {
     "data": {
      "text/plain": [
       "['8', '1196', '2004', '6168', '6533']"
      ]
     },
     "execution_count": 264,
     "metadata": {},
     "output_type": "execute_result"
    }
   ],
   "source": [
    "list(set(tn_cluster) & set(fot_dg))"
   ]
  },
  {
   "cell_type": "code",
   "execution_count": 265,
   "metadata": {},
   "outputs": [
    {
     "data": {
      "text/plain": [
       "['2004']"
      ]
     },
     "execution_count": 265,
     "metadata": {},
     "output_type": "execute_result"
    }
   ],
   "source": [
    "list(set(zero_cluster) & set(fot_dg))"
   ]
  },
  {
   "cell_type": "code",
   "execution_count": null,
   "metadata": {},
   "outputs": [],
   "source": [
    "print"
   ]
  },
  {
   "cell_type": "code",
   "execution_count": 257,
   "metadata": {},
   "outputs": [],
   "source": [
    "# Converting to original labels\n",
    "original_dg = disease_gene_dict['C0023473']\n",
    "\n",
    "zero_original = convert_from_integers(zero_cluster,interactome_mcl_dir)\n",
    "\n",
    "tn_original = convert_from_integers(tn_cluster,interactome_mcl_dir)"
   ]
  },
  {
   "cell_type": "code",
   "execution_count": 258,
   "metadata": {},
   "outputs": [
    {
     "data": {
      "text/plain": [
       "['1432']"
      ]
     },
     "execution_count": 258,
     "metadata": {},
     "output_type": "execute_result"
    }
   ],
   "source": [
    "list(set(zero_original) & set(original_dg))"
   ]
  },
  {
   "cell_type": "code",
   "execution_count": 259,
   "metadata": {},
   "outputs": [
    {
     "data": {
      "text/plain": [
       "['8864', '1407', '1408', '5187', '8863']"
      ]
     },
     "execution_count": 259,
     "metadata": {},
     "output_type": "execute_result"
    }
   ],
   "source": [
    "list(set(tn_original) & set(original_dg))"
   ]
  },
  {
   "cell_type": "code",
   "execution_count": 260,
   "metadata": {},
   "outputs": [
    {
     "name": "stdout",
     "output_type": "stream",
     "text": [
      "['1407', '1408', '1432', '23532', '240', '25', '26040', '2950', '3161', '3309', '332', '3440', '406', '5187', '5657', '613', '7015', '7490', '768', '861', '8863', '8864']\n",
      "['1432', '5600', '1852', '7867', '7365', '6300', '56940', '5616', '91807', '1844', '79740']\n",
      "['1408', '27373', '8914', '8864', '1407', '50514', '5187', '8863']\n"
     ]
    }
   ],
   "source": [
    "print(original_dg)\n",
    "\n",
    "print(zero_original)\n",
    "\n",
    "print(tn_original)"
   ]
  },
  {
   "cell_type": "code",
   "execution_count": null,
   "metadata": {},
   "outputs": [],
   "source": []
  }
 ],
 "metadata": {
  "kernelspec": {
   "display_name": "Python 3.9.5 64-bit",
   "language": "python",
   "name": "python3"
  },
  "language_info": {
   "codemirror_mode": {
    "name": "ipython",
    "version": 3
   },
   "file_extension": ".py",
   "mimetype": "text/x-python",
   "name": "python",
   "nbconvert_exporter": "python",
   "pygments_lexer": "ipython3",
   "version": "3.9.5"
  },
  "orig_nbformat": 4,
  "vscode": {
   "interpreter": {
    "hash": "aee8b7b246df8f9039afb4144a1f6fd8d2ca17a180786b69acc140d282b71a49"
   }
  }
 },
 "nbformat": 4,
 "nbformat_minor": 2
}
